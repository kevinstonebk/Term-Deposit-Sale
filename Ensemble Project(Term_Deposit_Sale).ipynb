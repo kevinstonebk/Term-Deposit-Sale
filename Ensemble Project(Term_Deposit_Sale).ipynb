{
 "cells": [
  {
   "cell_type": "code",
   "execution_count": 1,
   "metadata": {},
   "outputs": [],
   "source": [
    "####################################################################\n",
    "#PROJECT NAME: Term Deposit Sale(Ensemble Project)                 #    \n",
    "#                                                                  #\n",
    "#                                                                  #                    \n",
    "#PROGRAM NAME: Ensemble Project(Term_Deposit_Sale)                 #                                                               #\n",
    "#AUTHOR:     Kevin Kluck                                           #\n",
    "#DATE:       7/24/2020                                             #\n",
    "#                                                                  #\n",
    "#Python Version:3.7.6                                              #      \n",
    "#                                                                  #\n",
    "#                                                                  #         \n",
    "#ABSTRACT:Build a model that will help the marketing team identify #         \n",
    "#         potential customers who are relatively more likely to    #\n",
    "#         to subscribe term deposit.                               #\n",
    "####################################################################\n"
   ]
  },
  {
   "cell_type": "code",
   "execution_count": 2,
   "metadata": {},
   "outputs": [],
   "source": [
    "##############################\n",
    "##                          ##\n",
    "##      Import Libraries    ##\n",
    "##                          ##\n",
    "##############################\n",
    "\n",
    "import pandas as pd\n",
    "import matplotlib.pyplot as plt\n",
    "import seaborn as sns\n",
    "import numpy as np\n",
    "import warnings\n",
    "warnings.filterwarnings(\"ignore\")\n",
    "from PIL import Image\n",
    "\n",
    "from sklearn.model_selection import train_test_split\n",
    "from sklearn.preprocessing import FunctionTransformer  \n",
    "from sklearn import metrics\n",
    "from sklearn.metrics import confusion_matrix, recall_score, precision_score, f1_score, roc_auc_score,accuracy_score\n",
    "from sklearn.linear_model import LogisticRegression\n",
    "import statsmodels.api as sm\n",
    "from sklearn.tree import DecisionTreeClassifier\n",
    "from sklearn.ensemble import BaggingClassifier\n",
    "from sklearn.ensemble import AdaBoostClassifier\n",
    "from sklearn.ensemble import RandomForestClassifier\n",
    "from sklearn.ensemble import GradientBoostingClassifier"
   ]
  },
  {
   "cell_type": "markdown",
   "metadata": {},
   "source": [
    "Data is from https://archive.ics.uci.edu/ml/datasets/Bank+Marketing. I would like to thank S. Moro, P. Cortez, and P. Rita\n",
    "for putting together this data set."
   ]
  },
  {
   "cell_type": "code",
   "execution_count": 3,
   "metadata": {},
   "outputs": [],
   "source": [
    "##############################\n",
    "##                          ##\n",
    "##      Import Data         ##\n",
    "##                          ##\n",
    "##############################\n",
    "\n",
    "\n",
    "\n",
    "df = pd.read_csv(\"Bank-full.csv\") \n",
    "\n",
    "\n",
    "\n",
    "############# python formating ##################\n",
    "extra = {'Bold': '\\x1b[1m',\n",
    "        'Underline': '\\x1b[4m',\n",
    "        'Blue': '\\x1b[94m',\n",
    "        'End': '\\x1b[0m'}\n",
    "\n",
    "seed = 1729"
   ]
  },
  {
   "cell_type": "markdown",
   "metadata": {},
   "source": [
    "Deliverable -1 (Exploratory data quality report)"
   ]
  },
  {
   "cell_type": "code",
   "execution_count": 4,
   "metadata": {},
   "outputs": [
    {
     "name": "stdout",
     "output_type": "stream",
     "text": [
      "\u001b[1m \u001b[94m \u001b[4m \n",
      "Data Types\n",
      "\n",
      "\n",
      "\u001b[0m age           int64\n",
      "job          object\n",
      "marital      object\n",
      "education    object\n",
      "default      object\n",
      "balance       int64\n",
      "housing      object\n",
      "loan         object\n",
      "contact      object\n",
      "day           int64\n",
      "month        object\n",
      "duration      int64\n",
      "campaign      int64\n",
      "pdays         int64\n",
      "previous      int64\n",
      "poutcome     object\n",
      "Target       object\n",
      "dtype: object\n",
      "\u001b[1m \u001b[94m \u001b[4m \n",
      "Shape\n",
      "\n",
      "\n",
      "\u001b[0m (45211, 17)\n",
      "\u001b[1m \u001b[94m \u001b[4m \n",
      "Number of Missing Values per Column\n",
      "\n",
      "\n",
      "\u001b[0m age          0\n",
      "job          0\n",
      "marital      0\n",
      "education    0\n",
      "default      0\n",
      "balance      0\n",
      "housing      0\n",
      "loan         0\n",
      "contact      0\n",
      "day          0\n",
      "month        0\n",
      "duration     0\n",
      "campaign     0\n",
      "pdays        0\n",
      "previous     0\n",
      "poutcome     0\n",
      "Target       0\n",
      "dtype: int64\n",
      "\u001b[1m \u001b[94m \u001b[4m \n",
      "Number of Unique Values per Column\n",
      "\n",
      "\n",
      "\u001b[0m age            77\n",
      "job            12\n",
      "marital         3\n",
      "education       4\n",
      "default         2\n",
      "balance      7168\n",
      "housing         2\n",
      "loan            2\n",
      "contact         3\n",
      "day            31\n",
      "month          12\n",
      "duration     1573\n",
      "campaign       48\n",
      "pdays         559\n",
      "previous       41\n",
      "poutcome        4\n",
      "Target          2\n",
      "dtype: int64\n",
      "\u001b[1m \u001b[94m \u001b[4m \n",
      "Ranges of Numerical Data\n",
      "\u001b[0m\n",
      "age             77\n",
      "balance     110146\n",
      "day             30\n",
      "duration      4918\n",
      "campaign        62\n",
      "pdays          872\n",
      "previous       275\n",
      "dtype: int64\n",
      "\u001b[1m \u001b[94m \u001b[4m \n",
      "Statistical Summary\n",
      "\u001b[0m\n"
     ]
    },
    {
     "data": {
      "text/html": [
       "<div>\n",
       "<style scoped>\n",
       "    .dataframe tbody tr th:only-of-type {\n",
       "        vertical-align: middle;\n",
       "    }\n",
       "\n",
       "    .dataframe tbody tr th {\n",
       "        vertical-align: top;\n",
       "    }\n",
       "\n",
       "    .dataframe thead th {\n",
       "        text-align: right;\n",
       "    }\n",
       "</style>\n",
       "<table border=\"1\" class=\"dataframe\">\n",
       "  <thead>\n",
       "    <tr style=\"text-align: right;\">\n",
       "      <th></th>\n",
       "      <th>age</th>\n",
       "      <th>balance</th>\n",
       "      <th>day</th>\n",
       "      <th>duration</th>\n",
       "      <th>campaign</th>\n",
       "      <th>pdays</th>\n",
       "      <th>previous</th>\n",
       "    </tr>\n",
       "  </thead>\n",
       "  <tbody>\n",
       "    <tr>\n",
       "      <th>count</th>\n",
       "      <td>45211.000000</td>\n",
       "      <td>45211.000000</td>\n",
       "      <td>45211.000000</td>\n",
       "      <td>45211.000000</td>\n",
       "      <td>45211.000000</td>\n",
       "      <td>45211.000000</td>\n",
       "      <td>45211.000000</td>\n",
       "    </tr>\n",
       "    <tr>\n",
       "      <th>mean</th>\n",
       "      <td>40.936210</td>\n",
       "      <td>1362.272058</td>\n",
       "      <td>15.806419</td>\n",
       "      <td>258.163080</td>\n",
       "      <td>2.763841</td>\n",
       "      <td>40.197828</td>\n",
       "      <td>0.580323</td>\n",
       "    </tr>\n",
       "    <tr>\n",
       "      <th>std</th>\n",
       "      <td>10.618762</td>\n",
       "      <td>3044.765829</td>\n",
       "      <td>8.322476</td>\n",
       "      <td>257.527812</td>\n",
       "      <td>3.098021</td>\n",
       "      <td>100.128746</td>\n",
       "      <td>2.303441</td>\n",
       "    </tr>\n",
       "    <tr>\n",
       "      <th>min</th>\n",
       "      <td>18.000000</td>\n",
       "      <td>-8019.000000</td>\n",
       "      <td>1.000000</td>\n",
       "      <td>0.000000</td>\n",
       "      <td>1.000000</td>\n",
       "      <td>-1.000000</td>\n",
       "      <td>0.000000</td>\n",
       "    </tr>\n",
       "    <tr>\n",
       "      <th>25%</th>\n",
       "      <td>33.000000</td>\n",
       "      <td>72.000000</td>\n",
       "      <td>8.000000</td>\n",
       "      <td>103.000000</td>\n",
       "      <td>1.000000</td>\n",
       "      <td>-1.000000</td>\n",
       "      <td>0.000000</td>\n",
       "    </tr>\n",
       "    <tr>\n",
       "      <th>50%</th>\n",
       "      <td>39.000000</td>\n",
       "      <td>448.000000</td>\n",
       "      <td>16.000000</td>\n",
       "      <td>180.000000</td>\n",
       "      <td>2.000000</td>\n",
       "      <td>-1.000000</td>\n",
       "      <td>0.000000</td>\n",
       "    </tr>\n",
       "    <tr>\n",
       "      <th>75%</th>\n",
       "      <td>48.000000</td>\n",
       "      <td>1428.000000</td>\n",
       "      <td>21.000000</td>\n",
       "      <td>319.000000</td>\n",
       "      <td>3.000000</td>\n",
       "      <td>-1.000000</td>\n",
       "      <td>0.000000</td>\n",
       "    </tr>\n",
       "    <tr>\n",
       "      <th>max</th>\n",
       "      <td>95.000000</td>\n",
       "      <td>102127.000000</td>\n",
       "      <td>31.000000</td>\n",
       "      <td>4918.000000</td>\n",
       "      <td>63.000000</td>\n",
       "      <td>871.000000</td>\n",
       "      <td>275.000000</td>\n",
       "    </tr>\n",
       "  </tbody>\n",
       "</table>\n",
       "</div>"
      ],
      "text/plain": [
       "                age        balance           day      duration      campaign  \\\n",
       "count  45211.000000   45211.000000  45211.000000  45211.000000  45211.000000   \n",
       "mean      40.936210    1362.272058     15.806419    258.163080      2.763841   \n",
       "std       10.618762    3044.765829      8.322476    257.527812      3.098021   \n",
       "min       18.000000   -8019.000000      1.000000      0.000000      1.000000   \n",
       "25%       33.000000      72.000000      8.000000    103.000000      1.000000   \n",
       "50%       39.000000     448.000000     16.000000    180.000000      2.000000   \n",
       "75%       48.000000    1428.000000     21.000000    319.000000      3.000000   \n",
       "max       95.000000  102127.000000     31.000000   4918.000000     63.000000   \n",
       "\n",
       "              pdays      previous  \n",
       "count  45211.000000  45211.000000  \n",
       "mean      40.197828      0.580323  \n",
       "std      100.128746      2.303441  \n",
       "min       -1.000000      0.000000  \n",
       "25%       -1.000000      0.000000  \n",
       "50%       -1.000000      0.000000  \n",
       "75%       -1.000000      0.000000  \n",
       "max      871.000000    275.000000  "
      ]
     },
     "execution_count": 4,
     "metadata": {},
     "output_type": "execute_result"
    }
   ],
   "source": [
    "##################################\n",
    "##                              ##\n",
    "##      Explore Bank Data       ##\n",
    "##                              ##\n",
    "##################################\n",
    "\n",
    "print(extra['Bold'],extra['Blue'],extra['Underline'],\"\\nData Types\")\n",
    "print(\"\\n\")\n",
    "print(extra['End'],df.dtypes)\n",
    "\n",
    "print(extra['Bold'],extra['Blue'],extra['Underline'],\"\\nShape\")\n",
    "print(\"\\n\")\n",
    "print(extra['End'],df.shape)\n",
    "\n",
    "print(extra['Bold'],extra['Blue'],extra['Underline'],\"\\nNumber of Missing Values per Column\")\n",
    "print(\"\\n\")\n",
    "print(extra['End'],df.isnull().sum())\n",
    "\n",
    "print(extra['Bold'],extra['Blue'],extra['Underline'],\"\\nNumber of Unique Values per Column\")\n",
    "print(\"\\n\")\n",
    "print(extra['End'],df.nunique())\n",
    "\n",
    "print(extra['Bold'],extra['Blue'],extra['Underline'],\"\\nRanges of Numerical Data\")\n",
    "print(extra['End'])\n",
    "column1 = ['age', 'balance', 'day', 'duration', 'campaign', 'pdays', 'previous']\n",
    "print(df[column1].max()-df[column1].min())\n",
    "\n",
    "print(extra['Bold'],extra['Blue'],extra['Underline'],\"\\nStatistical Summary\")\n",
    "print(extra['End'])\n",
    "df.describe()\n"
   ]
  },
  {
   "cell_type": "code",
   "execution_count": 5,
   "metadata": {},
   "outputs": [
    {
     "data": {
      "text/plain": [
       "Text(0.5, 1.0, 'Distribution of Age')"
      ]
     },
     "execution_count": 5,
     "metadata": {},
     "output_type": "execute_result"
    },
    {
     "data": {
      "image/png": "[encoded data removed]",
      "text/plain": [
       "<Figure size 720x432 with 1 Axes>"
      ]
     },
     "metadata": {
      "needs_background": "light"
     },
     "output_type": "display_data"
    }
   ],
   "source": [
    "plt.figure(figsize=(10,6))\n",
    "sns.distplot(df['age'], hist_kws=dict(edgecolor=\"k\", linewidth=1))\n",
    "plt.title('Distribution of Age')"
   ]
  },
  {
   "cell_type": "code",
   "execution_count": 6,
   "metadata": {},
   "outputs": [
    {
     "name": "stdout",
     "output_type": "stream",
     "text": [
      "Number of clients that have an age above 73.0 : 381 ( 0.8 % )\n"
     ]
    }
   ],
   "source": [
    "Upper_age = df['age'].mean()+3*df['age'].std()\n",
    "number1 = len(df[(df['age']>Upper_age)])\n",
    "print('Number of clients that have an age above', round(Upper_age,0), ':', number1,\"(\",round(number1/len(df)*100,1),\"%\",\")\")"
   ]
  },
  {
   "cell_type": "markdown",
   "metadata": {},
   "source": [
    "Age represents the client’s age. From the plot above, the distribution seems to be a little skewed to the right. There are some outliers, clients older than 73, which makes up less than 1 % of all clients. Removal of these outliers may not be necessary. Through transformation of ages I could correct the distribution and the outliers may not stick out as much. "
   ]
  },
  {
   "cell_type": "code",
   "execution_count": 7,
   "metadata": {},
   "outputs": [
    {
     "data": {
      "text/plain": [
       "Text(0.5, 1.0, 'Distribution of Balance')"
      ]
     },
     "execution_count": 7,
     "metadata": {},
     "output_type": "execute_result"
    },
    {
     "data": {
      "image/png": "[encoded data removed]",
      "text/plain": [
       "<Figure size 720x432 with 1 Axes>"
      ]
     },
     "metadata": {
      "needs_background": "light"
     },
     "output_type": "display_data"
    }
   ],
   "source": [
    "plt.figure(figsize=(10,6))\n",
    "sns.distplot(df['balance'], hist_kws=dict(edgecolor=\"k\", linewidth=1))\n",
    "plt.title('Distribution of Balance')"
   ]
  },
  {
   "cell_type": "code",
   "execution_count": 8,
   "metadata": {},
   "outputs": [
    {
     "name": "stdout",
     "output_type": "stream",
     "text": [
      "Number of clients that have an balance above 3462.0 : 4712\n",
      "Number of clients that have an balance above 3 sd from the mean, 10497.0 : 744\n",
      "Number of clients that have negative balance, : 3766\n"
     ]
    }
   ],
   "source": [
    "Upper_bal = df['balance'].quantile(0.75)+1.5*(df['balance'].quantile(0.75)-df['balance'].quantile(0.25))\n",
    "number2 = len(df[(df['balance']>Upper_bal)])\n",
    "print('Number of clients that have an balance above', round(Upper_bal,0), ':', number2)\n",
    "\n",
    "Upper_bal1 = df['balance'].mean()+3*df['balance'].std()\n",
    "number3 = len(df[(df['balance']>Upper_bal1)])\n",
    "print('Number of clients that have an balance above 3 sd from the mean,', round(Upper_bal1,0), ':', number3)\n",
    "\n",
    "\n",
    "number4 = len(df[(df['balance']< 0)])\n",
    "print('Number of clients that have negative balance,',':', number4)"
   ]
  },
  {
   "cell_type": "markdown",
   "metadata": {},
   "source": [
    "Balance represents the client’s balance in their bank account. Data seems to be heavily skewed to the right. 3766 clients have negative balances and there are 744 clients that have balances that are more than 3 standard deviations from the mean. Outliers will have to be removed and transformation will have to be applied to correct skewness."
   ]
  },
  {
   "cell_type": "code",
   "execution_count": 9,
   "metadata": {},
   "outputs": [
    {
     "data": {
      "text/plain": [
       "Text(0.5, 1.0, 'Distribution of Day')"
      ]
     },
     "execution_count": 9,
     "metadata": {},
     "output_type": "execute_result"
    },
    {
     "data": {
      "image/png": "[encoded data removed]",
      "text/plain": [
       "<Figure size 432x288 with 1 Axes>"
      ]
     },
     "metadata": {
      "needs_background": "light"
     },
     "output_type": "display_data"
    }
   ],
   "source": [
    "sns.distplot(df['day'], hist_kws=dict(edgecolor=\"k\", linewidth=1))\n",
    "plt.title('Distribution of Day')"
   ]
  },
  {
   "cell_type": "markdown",
   "metadata": {},
   "source": [
    "Day is the last contact day of the month. This is more of a categorical than numeric. This variable should be dropped because there would be too many categories. "
   ]
  },
  {
   "cell_type": "code",
   "execution_count": 10,
   "metadata": {},
   "outputs": [
    {
     "data": {
      "text/plain": [
       "Text(0.5, 1.0, 'Distribution of Duration')"
      ]
     },
     "execution_count": 10,
     "metadata": {},
     "output_type": "execute_result"
    },
    {
     "data": {
      "image/png": "[encoded data removed]",
      "text/plain": [
       "<Figure size 720x432 with 1 Axes>"
      ]
     },
     "metadata": {
      "needs_background": "light"
     },
     "output_type": "display_data"
    }
   ],
   "source": [
    "plt.figure(figsize=(10,6))\n",
    "sns.distplot(df['duration'], hist_kws=dict(edgecolor=\"k\", linewidth=1))\n",
    "plt.title('Distribution of Duration')"
   ]
  },
  {
   "cell_type": "code",
   "execution_count": 11,
   "metadata": {},
   "outputs": [
    {
     "name": "stdout",
     "output_type": "stream",
     "text": [
      "Number of clients that have duration above 3 sd from the mean, 1031.0 : 963\n",
      "Number of clients that have duration of 0, : 3\n"
     ]
    }
   ],
   "source": [
    "Upper_dur = df['duration'].mean()+3*df['duration'].std()\n",
    "number4 = len(df[(df['duration']>Upper_dur)])\n",
    "print('Number of clients that have duration above 3 sd from the mean,', round(Upper_dur,0), ':', number4)\n",
    "number5 = len(df[(df['duration'] == 0)])\n",
    "print('Number of clients that have duration of 0,', ':', number5)"
   ]
  },
  {
   "cell_type": "markdown",
   "metadata": {},
   "source": [
    "Duration represent the contact time with the client in seconds. Duration data is heavily skewed to the right and needs data transformation. Also, there are 963 observations that have durations larger than 3sd, which these outliers should be removed."
   ]
  },
  {
   "cell_type": "code",
   "execution_count": 12,
   "metadata": {},
   "outputs": [
    {
     "data": {
      "text/plain": [
       "Text(0.5, 1.0, 'Distribution of Campaign')"
      ]
     },
     "execution_count": 12,
     "metadata": {},
     "output_type": "execute_result"
    },
    {
     "data": {
      "image/png": "[encoded data removed]",
      "text/plain": [
       "<Figure size 720x432 with 1 Axes>"
      ]
     },
     "metadata": {
      "needs_background": "light"
     },
     "output_type": "display_data"
    }
   ],
   "source": [
    "plt.figure(figsize=(10,6))\n",
    "sns.distplot(df['campaign'], hist_kws=dict(edgecolor=\"k\", linewidth=1))\n",
    "plt.title('Distribution of Campaign')"
   ]
  },
  {
   "cell_type": "code",
   "execution_count": 13,
   "metadata": {},
   "outputs": [
    {
     "name": "stdout",
     "output_type": "stream",
     "text": [
      "Number of contacts above 3 sd from the mean, 12.0 : 840\n",
      "Number of clients that had only one contact, : 17544\n",
      "38.80471566654133\n",
      "Number of clients were contacted more than 10 times, : 1462\n"
     ]
    }
   ],
   "source": [
    "Upper_cam = df['campaign'].mean()+3*df['campaign'].std()\n",
    "number5 = len(df[(df['campaign']>Upper_cam )])\n",
    "print('Number of contacts above 3 sd from the mean,', round(Upper_cam,0), ':', number5)\n",
    "number6 = len(df[(df['campaign']==1)])\n",
    "print('Number of clients that had only one contact,', ':', number6)\n",
    "print(number6/len(df)*100)\n",
    "\n",
    "number7 = len(df[(df['campaign']> 9)])\n",
    "print('Number of clients were contacted more than 10 times,', ':', number7)"
   ]
  },
  {
   "cell_type": "markdown",
   "metadata": {},
   "source": [
    "Campaign represents the number of contacts to the client during this campagin. There are 840 outliers, these are \n",
    "clients that were contacted more than 12 times. The distribution is heavily skewed right. About 38.8 percent of clients were contact only once. It may be better to change contacts into three groups, 1 to 4 times, 5 to 9, and 10 plus."
   ]
  },
  {
   "cell_type": "code",
   "execution_count": 14,
   "metadata": {},
   "outputs": [
    {
     "data": {
      "text/plain": [
       "Text(0.5, 1.0, 'Distribution of pdays')"
      ]
     },
     "execution_count": 14,
     "metadata": {},
     "output_type": "execute_result"
    },
    {
     "data": {
      "image/png": "[encoded data removed]",
      "text/plain": [
       "<Figure size 720x432 with 1 Axes>"
      ]
     },
     "metadata": {
      "needs_background": "light"
     },
     "output_type": "display_data"
    }
   ],
   "source": [
    "plt.figure(figsize=(10,6))\n",
    "sns.distplot(df['pdays'], kde=False, hist_kws=dict(edgecolor=\"k\", linewidth=1))\n",
    "plt.title('Distribution of pdays')"
   ]
  },
  {
   "cell_type": "code",
   "execution_count": 15,
   "metadata": {},
   "outputs": [
    {
     "name": "stdout",
     "output_type": "stream",
     "text": [
      "Number of -1 values for pdays, : 36954 ( 81.7 % )\n"
     ]
    }
   ],
   "source": [
    "number7 = len(df[(df['pdays']==-1)])\n",
    "print('Number of -1 values for pdays,', ':', number7,\"(\",round(number7/len(df)*100,1),\"%\",\")\")\n"
   ]
  },
  {
   "cell_type": "markdown",
   "metadata": {},
   "source": [
    "Pdays represents the number of days that passed by after the client was last contacted from a previous campaign. This data set is heavily skewed right. We know from the problem statement document, that -1  represents a client either was not contacted or contacted period is beyond 900 days. Since over 81 percent of this column is made up of -1 values and we don't know if the client was never contacted or it's been a long time, we should drop this attribute."
   ]
  },
  {
   "cell_type": "code",
   "execution_count": 16,
   "metadata": {},
   "outputs": [
    {
     "data": {
      "text/plain": [
       "Text(0.5, 1.0, 'Distribution of previous')"
      ]
     },
     "execution_count": 16,
     "metadata": {},
     "output_type": "execute_result"
    },
    {
     "data": {
      "image/png": "[encoded data removed]",
      "text/plain": [
       "<Figure size 720x432 with 1 Axes>"
      ]
     },
     "metadata": {
      "needs_background": "light"
     },
     "output_type": "display_data"
    }
   ],
   "source": [
    "plt.figure(figsize=(10,6))\n",
    "sns.distplot(df['previous'], kde=False, hist_kws=dict(edgecolor=\"k\", linewidth=1))\n",
    "plt.title('Distribution of previous')"
   ]
  },
  {
   "cell_type": "code",
   "execution_count": 17,
   "metadata": {},
   "outputs": [
    {
     "name": "stdout",
     "output_type": "stream",
     "text": [
      "Number of clients that had 0 contact, : 36954\n",
      "Number of clients that had 100 contact, : 1\n"
     ]
    }
   ],
   "source": [
    "number7 = len(df[(df['previous']==0)])\n",
    "print('Number of clients that had 0 contact,', ':', number7)\n",
    "number8 = len(df[(df['previous']> 75)])\n",
    "print('Number of clients that had 100 contact,', ':', number8)"
   ]
  },
  {
   "cell_type": "markdown",
   "metadata": {},
   "source": [
    "Previous is the number of contacts performed before this campaign. This data set is heavily skewed right. There is one observation that has 275 contacts, which should be removed.  Since most observations have 0 contacts, we should make a categorial variable saying either a client has or hasn't been contacted."
   ]
  },
  {
   "cell_type": "code",
   "execution_count": 18,
   "metadata": {
    "scrolled": true
   },
   "outputs": [
    {
     "name": "stdout",
     "output_type": "stream",
     "text": [
      "\u001b[4m Marital Status                                     % Percentage \u001b[0m \n",
      "\n",
      "married                                              60.2\n",
      "single                                               28.3\n",
      "divorced                                             11.5\n",
      "\n",
      "\n",
      "\u001b[4m Education                                          % Percentage \u001b[0m \n",
      "\n",
      "secondary                                            51.3\n",
      "tertiary                                             29.4\n",
      "primary                                              15.2\n",
      "unknown                                              4.1\n",
      "\n",
      "\n",
      "\u001b[4m Has Credit in Default                              % Percentage \u001b[0m \n",
      "\n",
      "no                                                   98.2\n",
      "yes                                                  1.8\n",
      "\n",
      "\n",
      "\u001b[4m Has Housing Loan                                   % Percentage \u001b[0m \n",
      "\n",
      "yes                                                  55.6\n",
      "no                                                   44.4\n",
      "\n",
      "\n",
      "\u001b[4m Has Personal Loan                                  % Percentage \u001b[0m \n",
      "\n",
      "no                                                   84.0\n",
      "yes                                                  16.0\n",
      "\n",
      "\n",
      "\u001b[4m Contact Communication Type                         % Percentage \u001b[0m \n",
      "\n",
      "cellular                                             64.8\n",
      "unknown                                              28.8\n",
      "telephone                                            6.4\n",
      "\n",
      "\n",
      "\u001b[4m Outcome of the Previous Marketing Campaign         % Percentage \u001b[0m \n",
      "\n",
      "unknown                                              81.7\n",
      "failure                                              10.8\n",
      "other                                                4.1\n",
      "success                                              3.3\n",
      "\n",
      "\n",
      "\u001b[4m Last Contact Month of Year                         % Percentage \u001b[0m \n",
      "\n",
      "may                                                  30.4\n",
      "jul                                                  15.3\n",
      "aug                                                  13.8\n",
      "jun                                                  11.8\n",
      "nov                                                  8.8\n",
      "apr                                                  6.5\n",
      "feb                                                  5.9\n",
      "jan                                                  3.1\n",
      "oct                                                  1.6\n",
      "sep                                                  1.3\n",
      "mar                                                  1.1\n",
      "dec                                                  0.5\n",
      "\n",
      "\n",
      "\u001b[4m Subscribed a Term Deposit                          % Percentage \u001b[0m \n",
      "\n",
      "no                                                   88.3\n",
      "yes                                                  11.7\n",
      "\n",
      "\n"
     ]
    },
    {
     "data": {
      "image/png": "[encoded data removed]",
      "text/plain": [
       "<Figure size 720x432 with 1 Axes>"
      ]
     },
     "metadata": {
      "needs_background": "light"
     },
     "output_type": "display_data"
    }
   ],
   "source": [
    "\n",
    "def charts(a,b):\n",
    "    var =round(df[a].value_counts(normalize=True).sort_values(ascending = False)*100,1)\n",
    "    print(extra['Underline'],b.ljust(50,' '), \"% Percentage\",extra['End'],\"\\n\")\n",
    "    for a, count in var.iteritems():\n",
    "        print(a.ljust(52, \" \"), count)\n",
    "    print(\"\\n\")\n",
    "    return\n",
    "\n",
    "charts('marital', 'Marital Status')\n",
    "charts('education', 'Education')\n",
    "charts('default','Has Credit in Default')\n",
    "charts('housing', 'Has Housing Loan')\n",
    "charts('loan', 'Has Personal Loan')\n",
    "charts('contact', 'Contact Communication Type ')\n",
    "charts('poutcome', 'Outcome of the Previous Marketing Campaign')\n",
    "charts('month', 'Last Contact Month of Year')\n",
    "charts('Target', 'Subscribed a Term Deposit')\n",
    "\n",
    "plt.figure(figsize=(10,6))\n",
    "sns.countplot(x = df['job'], order = df['job'].value_counts().index)\n",
    "plt.title('Counts by Job')\n",
    "plt.xticks(rotation=90)\n",
    "number9 = len(df[(df['job']== \"unknown\")])\n",
    "\n"
   ]
  },
  {
   "cell_type": "code",
   "execution_count": 19,
   "metadata": {},
   "outputs": [
    {
     "name": "stdout",
     "output_type": "stream",
     "text": [
      "Number of unknowns, : 288\n"
     ]
    }
   ],
   "source": [
    "print('Number of unknowns,', ':', number9)"
   ]
  },
  {
   "cell_type": "markdown",
   "metadata": {},
   "source": [
    "Marital is the marital status of the client. \n",
    "Education is the education level of the client. Some client’s have education level of unknown. Since there is little over 4% unknown values, we shouldn’t remove these values because it would cost too much information in being lost.\n",
    "\n",
    "Default represents if a client has credit in default. There is a small group, 1.8 %, that have defaulted on their loans so this variable should be dropped.\n",
    "\n",
    "Housing represents if a client has a housing loan or not.\n",
    "\n",
    "Loan represents if a client has a personal loan or not.\n",
    "\n",
    "Contact is the type of communication the client was contacted. There is 28.8 % that the type is unknown but removing such a large group would be losing a lot of information. So, this attributed may need to be dropped.\n",
    "Poutcome is the outcome of the previous marketing campaign. I would think unknown would be considered a failed, but I don’t know for sure. Since missing data is so large, this attribute should be dropped.\n",
    "Month is the last month contact of the year. There is too many categories so months should be change to quarters. Finding out what time of the year contacts happen, may be useful.\n",
    "\n",
    "Target, is the output, did the client subscribe a term deposit. The success is 11.7 percent, which isn't a rare event, but has a high class imbalance.\n",
    "\n",
    "Job, is the type of job the client has. There are 288 clients that are marked unknown. We can remove these observations because not knowing what someone's job is wouldn't be valuable to finding out who is subscribing for a term deposit.\n"
   ]
  },
  {
   "cell_type": "markdown",
   "metadata": {},
   "source": [
    "2. Multivariate analysis"
   ]
  },
  {
   "cell_type": "code",
   "execution_count": 20,
   "metadata": {},
   "outputs": [
    {
     "data": {
      "text/plain": [
       "Text(0.5, 1, 'CORRELATION BETWEEN VARIABLES')"
      ]
     },
     "execution_count": 20,
     "metadata": {},
     "output_type": "execute_result"
    },
    {
     "data": {
      "image/png": "[encoded data removed]",
      "text/plain": [
       "<Figure size 1080x1080 with 1 Axes>"
      ]
     },
     "metadata": {
      "needs_background": "light"
     },
     "output_type": "display_data"
    }
   ],
   "source": [
    "############ drop variables ##################\n",
    "\n",
    "df1 = df.drop(columns=[ 'day', 'pdays', 'default'])\n",
    "def plot_corr(df1, size=15):\n",
    "    corr = df1.corr()\n",
    "    fig, ax = plt.subplots(figsize=(size, size))\n",
    "    ax.matshow(corr)\n",
    "    plt.xticks(range(len(corr.columns)), corr.columns)\n",
    "    plt.yticks(range(len(corr.columns)), corr.columns)\n",
    "    for (i, j), z in np.ndenumerate(corr):\n",
    "        ax.text(j, i, '{:0.1f}'.format(z), ha='center', va='center')\n",
    "\n",
    "plot_corr(df1)\n",
    "plt.xticks(rotation = 90)\n",
    "plt.title('CORRELATION BETWEEN VARIABLES', y = 1) "
   ]
  },
  {
   "cell_type": "markdown",
   "metadata": {},
   "source": [
    "There seems to be little to no correlation between numeric variables."
   ]
  },
  {
   "cell_type": "code",
   "execution_count": 21,
   "metadata": {},
   "outputs": [
    {
     "data": {
      "image/png": "[encoded data removed]",
      "text/plain": [
       "<Figure size 1440x720 with 1 Axes>"
      ]
     },
     "metadata": {
      "needs_background": "light"
     },
     "output_type": "display_data"
    }
   ],
   "source": [
    "plt.figure(figsize=(20,10))\n",
    "plt.title('Distribution of age by client subscribed for a term deposit')\n",
    "sns.distplot(df1[df1['Target']==\"no\"]['age'],color='b',label= \"No\")\n",
    "sns.distplot(df1[df1['Target']==\"yes\"]['age'],color='r',label=\"Yes\")\n",
    "plt.legend()\n",
    "plt.show()"
   ]
  },
  {
   "cell_type": "markdown",
   "metadata": {},
   "source": [
    "The distribution of age for subscribing and not subscribing are very similar. There may be no correlation here. This attribute should be dropped from the model."
   ]
  },
  {
   "cell_type": "code",
   "execution_count": 22,
   "metadata": {},
   "outputs": [
    {
     "data": {
      "image/png": "[encoded data removed]",
      "text/plain": [
       "<Figure size 1440x720 with 1 Axes>"
      ]
     },
     "metadata": {
      "needs_background": "light"
     },
     "output_type": "display_data"
    }
   ],
   "source": [
    "plt.figure(figsize=(20,10))\n",
    "plt.title('Distribution of balance by client subscribed for a term deposit')\n",
    "sns.distplot(df1[df1['Target']==\"no\"]['balance'],color='r',label= \"No\")\n",
    "sns.distplot(df1[df1['Target']==\"yes\"]['balance'],color='g',label=\"Yes\")\n",
    "plt.legend()\n",
    "plt.show()"
   ]
  },
  {
   "cell_type": "markdown",
   "metadata": {},
   "source": [
    "The distribution of balance for subscribing and not subscribing are very similar. There may be no correlation here. This attribute should be dropped from the model."
   ]
  },
  {
   "cell_type": "code",
   "execution_count": 23,
   "metadata": {},
   "outputs": [
    {
     "data": {
      "image/png": "[encoded data removed]",
      "text/plain": [
       "<Figure size 1440x720 with 1 Axes>"
      ]
     },
     "metadata": {
      "needs_background": "light"
     },
     "output_type": "display_data"
    }
   ],
   "source": [
    "plt.figure(figsize=(20,10))\n",
    "plt.title('Distribution of duration by client subscribed for a term deposit')\n",
    "sns.boxplot(df1['Target'], df1['duration']);"
   ]
  },
  {
   "cell_type": "markdown",
   "metadata": {},
   "source": [
    "There seems to be a difference between subscribers and non-subscribers. Clients that subscribe seem to have longer durations."
   ]
  },
  {
   "cell_type": "code",
   "execution_count": 24,
   "metadata": {},
   "outputs": [
    {
     "data": {
      "image/png": "[encoded data removed]",
      "text/plain": [
       "<Figure size 1440x720 with 1 Axes>"
      ]
     },
     "metadata": {
      "needs_background": "light"
     },
     "output_type": "display_data"
    }
   ],
   "source": [
    "plt.figure(figsize=(20,10))\n",
    "plt.title('Distribution of campaign by client subscribed for a term deposit')\n",
    "sns.boxplot(df1['Target'], df1['campaign']);"
   ]
  },
  {
   "cell_type": "markdown",
   "metadata": {},
   "source": [
    "There seems to be me no variation between target and campaign. This attribute should be removed. "
   ]
  },
  {
   "cell_type": "code",
   "execution_count": 25,
   "metadata": {},
   "outputs": [
    {
     "data": {
      "image/png": "[encoded data removed]",
      "text/plain": [
       "<Figure size 720x720 with 1 Axes>"
      ]
     },
     "metadata": {
      "needs_background": "light"
     },
     "output_type": "display_data"
    }
   ],
   "source": [
    "plt.figure(figsize=(10,10))\n",
    "plt.title('Distribution of previous by client subscribed a term deposit')\n",
    "sns.boxplot(df1['Target'], df1['previous']);"
   ]
  },
  {
   "cell_type": "markdown",
   "metadata": {},
   "source": [
    "There seems to be very little difference between subscribers and non-subscribers. This attribute should be dropped from the model."
   ]
  },
  {
   "cell_type": "code",
   "execution_count": 26,
   "metadata": {},
   "outputs": [
    {
     "data": {
      "text/html": [
       "<div>\n",
       "<style scoped>\n",
       "    .dataframe tbody tr th:only-of-type {\n",
       "        vertical-align: middle;\n",
       "    }\n",
       "\n",
       "    .dataframe tbody tr th {\n",
       "        vertical-align: top;\n",
       "    }\n",
       "\n",
       "    .dataframe thead th {\n",
       "        text-align: right;\n",
       "    }\n",
       "</style>\n",
       "<table border=\"1\" class=\"dataframe\">\n",
       "  <thead>\n",
       "    <tr style=\"text-align: right;\">\n",
       "      <th>job</th>\n",
       "      <th>admin.</th>\n",
       "      <th>blue-collar</th>\n",
       "      <th>entrepreneur</th>\n",
       "      <th>housemaid</th>\n",
       "      <th>management</th>\n",
       "      <th>retired</th>\n",
       "      <th>self-employed</th>\n",
       "      <th>services</th>\n",
       "      <th>student</th>\n",
       "      <th>technician</th>\n",
       "      <th>unemployed</th>\n",
       "      <th>unknown</th>\n",
       "    </tr>\n",
       "    <tr>\n",
       "      <th>Target</th>\n",
       "      <th></th>\n",
       "      <th></th>\n",
       "      <th></th>\n",
       "      <th></th>\n",
       "      <th></th>\n",
       "      <th></th>\n",
       "      <th></th>\n",
       "      <th></th>\n",
       "      <th></th>\n",
       "      <th></th>\n",
       "      <th></th>\n",
       "      <th></th>\n",
       "    </tr>\n",
       "  </thead>\n",
       "  <tbody>\n",
       "    <tr>\n",
       "      <th>no</th>\n",
       "      <td>0.100418</td>\n",
       "      <td>0.199597</td>\n",
       "      <td>0.030170</td>\n",
       "      <td>0.025016</td>\n",
       "      <td>0.180421</td>\n",
       "      <td>0.038663</td>\n",
       "      <td>0.030789</td>\n",
       "      <td>0.083719</td>\n",
       "      <td>0.014797</td>\n",
       "      <td>0.149455</td>\n",
       "      <td>0.024352</td>\n",
       "      <td>0.005618</td>\n",
       "    </tr>\n",
       "    <tr>\n",
       "      <th>yes</th>\n",
       "      <td>0.013957</td>\n",
       "      <td>0.015660</td>\n",
       "      <td>0.002721</td>\n",
       "      <td>0.002411</td>\n",
       "      <td>0.028776</td>\n",
       "      <td>0.011413</td>\n",
       "      <td>0.004136</td>\n",
       "      <td>0.008162</td>\n",
       "      <td>0.005950</td>\n",
       "      <td>0.018580</td>\n",
       "      <td>0.004468</td>\n",
       "      <td>0.000752</td>\n",
       "    </tr>\n",
       "  </tbody>\n",
       "</table>\n",
       "</div>"
      ],
      "text/plain": [
       "job       admin.  blue-collar  entrepreneur  housemaid  management   retired  \\\n",
       "Target                                                                         \n",
       "no      0.100418     0.199597      0.030170   0.025016    0.180421  0.038663   \n",
       "yes     0.013957     0.015660      0.002721   0.002411    0.028776  0.011413   \n",
       "\n",
       "job     self-employed  services   student  technician  unemployed   unknown  \n",
       "Target                                                                       \n",
       "no           0.030789  0.083719  0.014797    0.149455    0.024352  0.005618  \n",
       "yes          0.004136  0.008162  0.005950    0.018580    0.004468  0.000752  "
      ]
     },
     "execution_count": 26,
     "metadata": {},
     "output_type": "execute_result"
    }
   ],
   "source": [
    "pd.crosstab(df['Target'], df['job'],normalize='all')"
   ]
  },
  {
   "cell_type": "markdown",
   "metadata": {},
   "source": [
    "Unknown is the smallest group and should be removed. Entrepreneur and self-employed are the same, and should be put together. Admin and management are the same so I'll put them together."
   ]
  },
  {
   "cell_type": "code",
   "execution_count": 27,
   "metadata": {},
   "outputs": [
    {
     "data": {
      "text/html": [
       "<div>\n",
       "<style scoped>\n",
       "    .dataframe tbody tr th:only-of-type {\n",
       "        vertical-align: middle;\n",
       "    }\n",
       "\n",
       "    .dataframe tbody tr th {\n",
       "        vertical-align: top;\n",
       "    }\n",
       "\n",
       "    .dataframe thead th {\n",
       "        text-align: right;\n",
       "    }\n",
       "</style>\n",
       "<table border=\"1\" class=\"dataframe\">\n",
       "  <thead>\n",
       "    <tr style=\"text-align: right;\">\n",
       "      <th>marital</th>\n",
       "      <th>divorced</th>\n",
       "      <th>married</th>\n",
       "      <th>single</th>\n",
       "    </tr>\n",
       "    <tr>\n",
       "      <th>Target</th>\n",
       "      <th></th>\n",
       "      <th></th>\n",
       "      <th></th>\n",
       "    </tr>\n",
       "  </thead>\n",
       "  <tbody>\n",
       "    <tr>\n",
       "      <th>no</th>\n",
       "      <td>0.101413</td>\n",
       "      <td>0.540997</td>\n",
       "      <td>0.240605</td>\n",
       "    </tr>\n",
       "    <tr>\n",
       "      <th>yes</th>\n",
       "      <td>0.013758</td>\n",
       "      <td>0.060936</td>\n",
       "      <td>0.042291</td>\n",
       "    </tr>\n",
       "  </tbody>\n",
       "</table>\n",
       "</div>"
      ],
      "text/plain": [
       "marital  divorced   married    single\n",
       "Target                               \n",
       "no       0.101413  0.540997  0.240605\n",
       "yes      0.013758  0.060936  0.042291"
      ]
     },
     "execution_count": 27,
     "metadata": {},
     "output_type": "execute_result"
    }
   ],
   "source": [
    "pd.crosstab(df['Target'], df['marital'],normalize='all')"
   ]
  },
  {
   "cell_type": "markdown",
   "metadata": {},
   "source": [
    "It seems most of all the clients who got substritions were married. This is also the largest group who was contacted."
   ]
  },
  {
   "cell_type": "code",
   "execution_count": 28,
   "metadata": {},
   "outputs": [
    {
     "data": {
      "text/html": [
       "<div>\n",
       "<style scoped>\n",
       "    .dataframe tbody tr th:only-of-type {\n",
       "        vertical-align: middle;\n",
       "    }\n",
       "\n",
       "    .dataframe tbody tr th {\n",
       "        vertical-align: top;\n",
       "    }\n",
       "\n",
       "    .dataframe thead th {\n",
       "        text-align: right;\n",
       "    }\n",
       "</style>\n",
       "<table border=\"1\" class=\"dataframe\">\n",
       "  <thead>\n",
       "    <tr style=\"text-align: right;\">\n",
       "      <th>education</th>\n",
       "      <th>primary</th>\n",
       "      <th>secondary</th>\n",
       "      <th>tertiary</th>\n",
       "      <th>unknown</th>\n",
       "    </tr>\n",
       "    <tr>\n",
       "      <th>Target</th>\n",
       "      <th></th>\n",
       "      <th></th>\n",
       "      <th></th>\n",
       "      <th></th>\n",
       "    </tr>\n",
       "  </thead>\n",
       "  <tbody>\n",
       "    <tr>\n",
       "      <th>no</th>\n",
       "      <td>0.138462</td>\n",
       "      <td>0.459003</td>\n",
       "      <td>0.250050</td>\n",
       "      <td>0.035500</td>\n",
       "    </tr>\n",
       "    <tr>\n",
       "      <th>yes</th>\n",
       "      <td>0.013072</td>\n",
       "      <td>0.054190</td>\n",
       "      <td>0.044149</td>\n",
       "      <td>0.005574</td>\n",
       "    </tr>\n",
       "  </tbody>\n",
       "</table>\n",
       "</div>"
      ],
      "text/plain": [
       "education   primary  secondary  tertiary   unknown\n",
       "Target                                            \n",
       "no         0.138462   0.459003  0.250050  0.035500\n",
       "yes        0.013072   0.054190  0.044149  0.005574"
      ]
     },
     "execution_count": 28,
     "metadata": {},
     "output_type": "execute_result"
    }
   ],
   "source": [
    "pd.crosstab(df['Target'], df['education'],normalize='all')"
   ]
  },
  {
   "cell_type": "markdown",
   "metadata": {},
   "source": [
    "Since unknown is a small group, it should be dropped from data set."
   ]
  },
  {
   "cell_type": "code",
   "execution_count": 29,
   "metadata": {},
   "outputs": [
    {
     "data": {
      "text/html": [
       "<div>\n",
       "<style scoped>\n",
       "    .dataframe tbody tr th:only-of-type {\n",
       "        vertical-align: middle;\n",
       "    }\n",
       "\n",
       "    .dataframe tbody tr th {\n",
       "        vertical-align: top;\n",
       "    }\n",
       "\n",
       "    .dataframe thead th {\n",
       "        text-align: right;\n",
       "    }\n",
       "</style>\n",
       "<table border=\"1\" class=\"dataframe\">\n",
       "  <thead>\n",
       "    <tr style=\"text-align: right;\">\n",
       "      <th>housing</th>\n",
       "      <th>no</th>\n",
       "      <th>yes</th>\n",
       "    </tr>\n",
       "    <tr>\n",
       "      <th>Target</th>\n",
       "      <th></th>\n",
       "      <th></th>\n",
       "    </tr>\n",
       "  </thead>\n",
       "  <tbody>\n",
       "    <tr>\n",
       "      <th>no</th>\n",
       "      <td>0.369976</td>\n",
       "      <td>0.513039</td>\n",
       "    </tr>\n",
       "    <tr>\n",
       "      <th>yes</th>\n",
       "      <td>0.074185</td>\n",
       "      <td>0.042799</td>\n",
       "    </tr>\n",
       "  </tbody>\n",
       "</table>\n",
       "</div>"
      ],
      "text/plain": [
       "housing        no       yes\n",
       "Target                     \n",
       "no       0.369976  0.513039\n",
       "yes      0.074185  0.042799"
      ]
     },
     "execution_count": 29,
     "metadata": {},
     "output_type": "execute_result"
    }
   ],
   "source": [
    "pd.crosstab(df['Target'], df['housing'],normalize='all')"
   ]
  },
  {
   "cell_type": "markdown",
   "metadata": {},
   "source": [
    "Out of all the substribers most of them didn't have home loan."
   ]
  },
  {
   "cell_type": "code",
   "execution_count": 30,
   "metadata": {},
   "outputs": [
    {
     "data": {
      "text/html": [
       "<div>\n",
       "<style scoped>\n",
       "    .dataframe tbody tr th:only-of-type {\n",
       "        vertical-align: middle;\n",
       "    }\n",
       "\n",
       "    .dataframe tbody tr th {\n",
       "        vertical-align: top;\n",
       "    }\n",
       "\n",
       "    .dataframe thead th {\n",
       "        text-align: right;\n",
       "    }\n",
       "</style>\n",
       "<table border=\"1\" class=\"dataframe\">\n",
       "  <thead>\n",
       "    <tr style=\"text-align: right;\">\n",
       "      <th>loan</th>\n",
       "      <th>no</th>\n",
       "      <th>yes</th>\n",
       "    </tr>\n",
       "    <tr>\n",
       "      <th>Target</th>\n",
       "      <th></th>\n",
       "      <th></th>\n",
       "    </tr>\n",
       "  </thead>\n",
       "  <tbody>\n",
       "    <tr>\n",
       "      <th>no</th>\n",
       "      <td>0.733494</td>\n",
       "      <td>0.149521</td>\n",
       "    </tr>\n",
       "    <tr>\n",
       "      <th>yes</th>\n",
       "      <td>0.106279</td>\n",
       "      <td>0.010705</td>\n",
       "    </tr>\n",
       "  </tbody>\n",
       "</table>\n",
       "</div>"
      ],
      "text/plain": [
       "loan          no       yes\n",
       "Target                    \n",
       "no      0.733494  0.149521\n",
       "yes     0.106279  0.010705"
      ]
     },
     "execution_count": 30,
     "metadata": {},
     "output_type": "execute_result"
    }
   ],
   "source": [
    "pd.crosstab(df['Target'], df['loan'],normalize='all')"
   ]
  },
  {
   "cell_type": "markdown",
   "metadata": {},
   "source": [
    "Out of all the substribers most of them didn't have personal loan."
   ]
  },
  {
   "cell_type": "code",
   "execution_count": 31,
   "metadata": {},
   "outputs": [
    {
     "data": {
      "text/html": [
       "<div>\n",
       "<style scoped>\n",
       "    .dataframe tbody tr th:only-of-type {\n",
       "        vertical-align: middle;\n",
       "    }\n",
       "\n",
       "    .dataframe tbody tr th {\n",
       "        vertical-align: top;\n",
       "    }\n",
       "\n",
       "    .dataframe thead th {\n",
       "        text-align: right;\n",
       "    }\n",
       "</style>\n",
       "<table border=\"1\" class=\"dataframe\">\n",
       "  <thead>\n",
       "    <tr style=\"text-align: right;\">\n",
       "      <th>contact</th>\n",
       "      <th>cellular</th>\n",
       "      <th>telephone</th>\n",
       "      <th>unknown</th>\n",
       "    </tr>\n",
       "    <tr>\n",
       "      <th>Target</th>\n",
       "      <th></th>\n",
       "      <th></th>\n",
       "      <th></th>\n",
       "    </tr>\n",
       "  </thead>\n",
       "  <tbody>\n",
       "    <tr>\n",
       "      <th>no</th>\n",
       "      <td>0.551105</td>\n",
       "      <td>0.055650</td>\n",
       "      <td>0.276260</td>\n",
       "    </tr>\n",
       "    <tr>\n",
       "      <th>yes</th>\n",
       "      <td>0.096636</td>\n",
       "      <td>0.008626</td>\n",
       "      <td>0.011723</td>\n",
       "    </tr>\n",
       "  </tbody>\n",
       "</table>\n",
       "</div>"
      ],
      "text/plain": [
       "contact  cellular  telephone   unknown\n",
       "Target                                \n",
       "no       0.551105   0.055650  0.276260\n",
       "yes      0.096636   0.008626  0.011723"
      ]
     },
     "execution_count": 31,
     "metadata": {},
     "output_type": "execute_result"
    }
   ],
   "source": [
    "pd.crosstab(df['Target'], df['contact'],normalize='all')"
   ]
  },
  {
   "cell_type": "markdown",
   "metadata": {},
   "source": [
    "Most clients were contacted by cell phone. Since there is such a large group of missing, this attributed should be dropped."
   ]
  },
  {
   "cell_type": "code",
   "execution_count": 32,
   "metadata": {},
   "outputs": [
    {
     "data": {
      "text/html": [
       "<div>\n",
       "<style scoped>\n",
       "    .dataframe tbody tr th:only-of-type {\n",
       "        vertical-align: middle;\n",
       "    }\n",
       "\n",
       "    .dataframe tbody tr th {\n",
       "        vertical-align: top;\n",
       "    }\n",
       "\n",
       "    .dataframe thead th {\n",
       "        text-align: right;\n",
       "    }\n",
       "</style>\n",
       "<table border=\"1\" class=\"dataframe\">\n",
       "  <thead>\n",
       "    <tr style=\"text-align: right;\">\n",
       "      <th>poutcome</th>\n",
       "      <th>failure</th>\n",
       "      <th>other</th>\n",
       "      <th>success</th>\n",
       "      <th>unknown</th>\n",
       "    </tr>\n",
       "    <tr>\n",
       "      <th>Target</th>\n",
       "      <th></th>\n",
       "      <th></th>\n",
       "      <th></th>\n",
       "      <th></th>\n",
       "    </tr>\n",
       "  </thead>\n",
       "  <tbody>\n",
       "    <tr>\n",
       "      <th>no</th>\n",
       "      <td>0.094734</td>\n",
       "      <td>0.033908</td>\n",
       "      <td>0.011789</td>\n",
       "      <td>0.742585</td>\n",
       "    </tr>\n",
       "    <tr>\n",
       "      <th>yes</th>\n",
       "      <td>0.013669</td>\n",
       "      <td>0.006790</td>\n",
       "      <td>0.021632</td>\n",
       "      <td>0.074893</td>\n",
       "    </tr>\n",
       "  </tbody>\n",
       "</table>\n",
       "</div>"
      ],
      "text/plain": [
       "poutcome   failure     other   success   unknown\n",
       "Target                                          \n",
       "no        0.094734  0.033908  0.011789  0.742585\n",
       "yes       0.013669  0.006790  0.021632  0.074893"
      ]
     },
     "execution_count": 32,
     "metadata": {},
     "output_type": "execute_result"
    }
   ],
   "source": [
    "pd.crosstab(df['Target'], df['poutcome'],normalize='all')"
   ]
  },
  {
   "cell_type": "markdown",
   "metadata": {},
   "source": [
    "Since there is such a large group of missing, this attributed should be dropped."
   ]
  },
  {
   "cell_type": "code",
   "execution_count": 33,
   "metadata": {},
   "outputs": [
    {
     "data": {
      "text/html": [
       "<div>\n",
       "<style scoped>\n",
       "    .dataframe tbody tr th:only-of-type {\n",
       "        vertical-align: middle;\n",
       "    }\n",
       "\n",
       "    .dataframe tbody tr th {\n",
       "        vertical-align: top;\n",
       "    }\n",
       "\n",
       "    .dataframe thead th {\n",
       "        text-align: right;\n",
       "    }\n",
       "</style>\n",
       "<table border=\"1\" class=\"dataframe\">\n",
       "  <thead>\n",
       "    <tr style=\"text-align: right;\">\n",
       "      <th>month</th>\n",
       "      <th>apr</th>\n",
       "      <th>aug</th>\n",
       "      <th>dec</th>\n",
       "      <th>feb</th>\n",
       "      <th>jan</th>\n",
       "      <th>jul</th>\n",
       "      <th>jun</th>\n",
       "      <th>mar</th>\n",
       "      <th>may</th>\n",
       "      <th>nov</th>\n",
       "      <th>oct</th>\n",
       "      <th>sep</th>\n",
       "    </tr>\n",
       "    <tr>\n",
       "      <th>Target</th>\n",
       "      <th></th>\n",
       "      <th></th>\n",
       "      <th></th>\n",
       "      <th></th>\n",
       "      <th></th>\n",
       "      <th></th>\n",
       "      <th></th>\n",
       "      <th></th>\n",
       "      <th></th>\n",
       "      <th></th>\n",
       "      <th></th>\n",
       "      <th></th>\n",
       "    </tr>\n",
       "  </thead>\n",
       "  <tbody>\n",
       "    <tr>\n",
       "      <th>no</th>\n",
       "      <td>0.052089</td>\n",
       "      <td>0.122957</td>\n",
       "      <td>0.002522</td>\n",
       "      <td>0.048838</td>\n",
       "      <td>0.027891</td>\n",
       "      <td>0.138639</td>\n",
       "      <td>0.106058</td>\n",
       "      <td>0.005065</td>\n",
       "      <td>0.284024</td>\n",
       "      <td>0.078897</td>\n",
       "      <td>0.009179</td>\n",
       "      <td>0.006857</td>\n",
       "    </tr>\n",
       "    <tr>\n",
       "      <th>yes</th>\n",
       "      <td>0.012762</td>\n",
       "      <td>0.015218</td>\n",
       "      <td>0.002212</td>\n",
       "      <td>0.009754</td>\n",
       "      <td>0.003141</td>\n",
       "      <td>0.013868</td>\n",
       "      <td>0.012077</td>\n",
       "      <td>0.005485</td>\n",
       "      <td>0.020460</td>\n",
       "      <td>0.008914</td>\n",
       "      <td>0.007144</td>\n",
       "      <td>0.005950</td>\n",
       "    </tr>\n",
       "  </tbody>\n",
       "</table>\n",
       "</div>"
      ],
      "text/plain": [
       "month        apr       aug       dec       feb       jan       jul       jun  \\\n",
       "Target                                                                         \n",
       "no      0.052089  0.122957  0.002522  0.048838  0.027891  0.138639  0.106058   \n",
       "yes     0.012762  0.015218  0.002212  0.009754  0.003141  0.013868  0.012077   \n",
       "\n",
       "month        mar       may       nov       oct       sep  \n",
       "Target                                                    \n",
       "no      0.005065  0.284024  0.078897  0.009179  0.006857  \n",
       "yes     0.005485  0.020460  0.008914  0.007144  0.005950  "
      ]
     },
     "execution_count": 33,
     "metadata": {},
     "output_type": "execute_result"
    }
   ],
   "source": [
    "pd.crosstab(df['Target'], df['month'],normalize='all')"
   ]
  },
  {
   "cell_type": "code",
   "execution_count": 34,
   "metadata": {},
   "outputs": [
    {
     "data": {
      "text/html": [
       "<div>\n",
       "<style scoped>\n",
       "    .dataframe tbody tr th:only-of-type {\n",
       "        vertical-align: middle;\n",
       "    }\n",
       "\n",
       "    .dataframe tbody tr th {\n",
       "        vertical-align: top;\n",
       "    }\n",
       "\n",
       "    .dataframe thead th {\n",
       "        text-align: right;\n",
       "    }\n",
       "</style>\n",
       "<table border=\"1\" class=\"dataframe\">\n",
       "  <thead>\n",
       "    <tr style=\"text-align: right;\">\n",
       "      <th>Qrt</th>\n",
       "      <th>1</th>\n",
       "      <th>2</th>\n",
       "      <th>3</th>\n",
       "      <th>4</th>\n",
       "    </tr>\n",
       "    <tr>\n",
       "      <th>Target</th>\n",
       "      <th></th>\n",
       "      <th></th>\n",
       "      <th></th>\n",
       "      <th></th>\n",
       "    </tr>\n",
       "  </thead>\n",
       "  <tbody>\n",
       "    <tr>\n",
       "      <th>no</th>\n",
       "      <td>0.081794</td>\n",
       "      <td>0.442171</td>\n",
       "      <td>0.268452</td>\n",
       "      <td>0.090597</td>\n",
       "    </tr>\n",
       "    <tr>\n",
       "      <th>yes</th>\n",
       "      <td>0.018380</td>\n",
       "      <td>0.045299</td>\n",
       "      <td>0.035036</td>\n",
       "      <td>0.018270</td>\n",
       "    </tr>\n",
       "  </tbody>\n",
       "</table>\n",
       "</div>"
      ],
      "text/plain": [
       "Qrt            1         2         3         4\n",
       "Target                                        \n",
       "no      0.081794  0.442171  0.268452  0.090597\n",
       "yes     0.018380  0.045299  0.035036  0.018270"
      ]
     },
     "execution_count": 34,
     "metadata": {},
     "output_type": "execute_result"
    }
   ],
   "source": [
    "df1['Qrt'] = df1['month'].replace({'jan': '1', 'feb': '1', 'mar': '1',\n",
    "                                          'apr': '2', 'may': '2', 'jun': '2',\n",
    "                                          'jul': '3', 'aug': '3', 'sep': '3',\n",
    "                                          'oct': '4', 'nov': '4', 'dec': '4'})\n",
    "pd.crosstab(df1['Target'], df1['Qrt'],normalize='all')"
   ]
  },
  {
   "cell_type": "markdown",
   "metadata": {},
   "source": [
    "Most people got contacted mainly in the middle of the year. Qrt and target varaible don't seem balance between the different classes. I will remove this attribute.  "
   ]
  },
  {
   "cell_type": "markdown",
   "metadata": {},
   "source": [
    "Deliverable – 2 (Prepare the data for analytics) "
   ]
  },
  {
   "cell_type": "code",
   "execution_count": 35,
   "metadata": {},
   "outputs": [
    {
     "name": "stdout",
     "output_type": "stream",
     "text": [
      "\u001b[1m \u001b[94m \u001b[4m \n",
      "Checking Data Types\n",
      "\n",
      "\n",
      "\u001b[0m housing                int64\n",
      "loan                   int64\n",
      "duration               int64\n",
      "Target                 int64\n",
      "education_secondary    uint8\n",
      "education_tertiary     uint8\n",
      "job_blue-collar        uint8\n",
      "job_entrepreneur       uint8\n",
      "job_housemaid          uint8\n",
      "job_management         uint8\n",
      "job_retired            uint8\n",
      "job_services           uint8\n",
      "job_student            uint8\n",
      "job_technician         uint8\n",
      "marital_divorced       uint8\n",
      "marital_married        uint8\n",
      "marital_single         uint8\n",
      "dtype: object\n"
     ]
    }
   ],
   "source": [
    "################### drop variables and make dummies variables ######################\n",
    "df1 = df.drop(columns=['day', 'pdays', 'default', 'campaign', 'previous', 'month', 'poutcome', 'contact','age','balance'])\n",
    "cleanup_names = {\"Target\": {\"no\":0, \"yes\":1},\n",
    "                \"loan\": {\"no\":0, \"yes\":1},\n",
    "                \"housing\": {\"no\":0, \"yes\":1}}\n",
    "df1.replace(cleanup_names, inplace=True)\n",
    "df1=df1.replace(to_replace =\"self-employed\", \n",
    "                 value =\"entrepreneur\") \n",
    "df1=df1.replace(to_replace =\"admin.\", \n",
    "                 value =\"management\") \n",
    "df1 =df1[(df1['job']!= \"unknown\")]\n",
    "df1 =df1[(df1['education']!= \"unknown\")]\n",
    "df1 = pd.get_dummies(df1, columns=['education', 'job','marital'])\n",
    "df1=df1.drop(columns = ['education_primary', 'job_unemployed'])#primary will be the default \n",
    "\n",
    "print(extra['Bold'],extra['Blue'],extra['Underline'],\"\\nChecking Data Types\")\n",
    "print(\"\\n\")\n",
    "print(extra['End'],df1.dtypes)"
   ]
  },
  {
   "cell_type": "code",
   "execution_count": 36,
   "metadata": {},
   "outputs": [],
   "source": [
    "################### drop outliers ######################\n",
    "\n",
    "Upper_dur = df1['duration'].mean()+3*df1['duration'].std()\n",
    "df1 = df1[(df1['duration']<Upper_dur)]"
   ]
  },
  {
   "cell_type": "code",
   "execution_count": 37,
   "metadata": {},
   "outputs": [
    {
     "data": {
      "text/plain": [
       "<matplotlib.axes._subplots.AxesSubplot at 0x1949bbc6f88>"
      ]
     },
     "execution_count": 37,
     "metadata": {},
     "output_type": "execute_result"
    },
    {
     "data": {
      "image/png": "[encoded data removed]",
      "text/plain": [
       "<Figure size 432x288 with 1 Axes>"
      ]
     },
     "metadata": {
      "needs_background": "light"
     },
     "output_type": "display_data"
    }
   ],
   "source": [
    "log_transformer = FunctionTransformer(np.log1p)\n",
    "plt.title('Distribution of log of duration')\n",
    "df1['duration_log'] = log_transformer.fit_transform(df1[['duration']])\n",
    "sns.distplot(df1['duration_log'], hist_kws=dict(edgecolor=\"k\", linewidth=1))"
   ]
  },
  {
   "cell_type": "code",
   "execution_count": 38,
   "metadata": {},
   "outputs": [
    {
     "data": {
      "text/plain": [
       "<matplotlib.axes._subplots.AxesSubplot at 0x1949bf1c848>"
      ]
     },
     "execution_count": 38,
     "metadata": {},
     "output_type": "execute_result"
    },
    {
     "data": {
      "image/png": "[encoded data removed]",
      "text/plain": [
       "<Figure size 432x288 with 1 Axes>"
      ]
     },
     "metadata": {
      "needs_background": "light"
     },
     "output_type": "display_data"
    }
   ],
   "source": [
    "sqrt_transformer = FunctionTransformer(np.sqrt)\n",
    "plt.title('Distribution of sqrt of duration')\n",
    "\n",
    "df1['duration_sqrt'] = sqrt_transformer.fit_transform(df1[['duration']]) \n",
    "sns.distplot(df1['duration_sqrt'], hist_kws=dict(edgecolor=\"k\", linewidth=1))"
   ]
  },
  {
   "cell_type": "markdown",
   "metadata": {},
   "source": [
    "Square root transformation looks a lot more normal than log transfromation for duration."
   ]
  },
  {
   "cell_type": "code",
   "execution_count": 39,
   "metadata": {},
   "outputs": [
    {
     "data": {
      "text/html": [
       "<div>\n",
       "<style scoped>\n",
       "    .dataframe tbody tr th:only-of-type {\n",
       "        vertical-align: middle;\n",
       "    }\n",
       "\n",
       "    .dataframe tbody tr th {\n",
       "        vertical-align: top;\n",
       "    }\n",
       "\n",
       "    .dataframe thead th {\n",
       "        text-align: right;\n",
       "    }\n",
       "</style>\n",
       "<table border=\"1\" class=\"dataframe\">\n",
       "  <thead>\n",
       "    <tr style=\"text-align: right;\">\n",
       "      <th></th>\n",
       "      <th>housing</th>\n",
       "      <th>loan</th>\n",
       "      <th>Target</th>\n",
       "      <th>education_secondary</th>\n",
       "      <th>education_tertiary</th>\n",
       "      <th>job_blue-collar</th>\n",
       "      <th>job_entrepreneur</th>\n",
       "      <th>job_housemaid</th>\n",
       "      <th>job_management</th>\n",
       "      <th>job_retired</th>\n",
       "      <th>job_services</th>\n",
       "      <th>job_student</th>\n",
       "      <th>job_technician</th>\n",
       "      <th>marital_divorced</th>\n",
       "      <th>marital_married</th>\n",
       "      <th>duration_sqrt</th>\n",
       "    </tr>\n",
       "  </thead>\n",
       "  <tbody>\n",
       "    <tr>\n",
       "      <th>0</th>\n",
       "      <td>1</td>\n",
       "      <td>0</td>\n",
       "      <td>0</td>\n",
       "      <td>0</td>\n",
       "      <td>1</td>\n",
       "      <td>0</td>\n",
       "      <td>0</td>\n",
       "      <td>0</td>\n",
       "      <td>1</td>\n",
       "      <td>0</td>\n",
       "      <td>0</td>\n",
       "      <td>0</td>\n",
       "      <td>0</td>\n",
       "      <td>0</td>\n",
       "      <td>1</td>\n",
       "      <td>16.155494</td>\n",
       "    </tr>\n",
       "    <tr>\n",
       "      <th>1</th>\n",
       "      <td>1</td>\n",
       "      <td>0</td>\n",
       "      <td>0</td>\n",
       "      <td>1</td>\n",
       "      <td>0</td>\n",
       "      <td>0</td>\n",
       "      <td>0</td>\n",
       "      <td>0</td>\n",
       "      <td>0</td>\n",
       "      <td>0</td>\n",
       "      <td>0</td>\n",
       "      <td>0</td>\n",
       "      <td>1</td>\n",
       "      <td>0</td>\n",
       "      <td>0</td>\n",
       "      <td>12.288206</td>\n",
       "    </tr>\n",
       "    <tr>\n",
       "      <th>2</th>\n",
       "      <td>1</td>\n",
       "      <td>1</td>\n",
       "      <td>0</td>\n",
       "      <td>1</td>\n",
       "      <td>0</td>\n",
       "      <td>0</td>\n",
       "      <td>1</td>\n",
       "      <td>0</td>\n",
       "      <td>0</td>\n",
       "      <td>0</td>\n",
       "      <td>0</td>\n",
       "      <td>0</td>\n",
       "      <td>0</td>\n",
       "      <td>0</td>\n",
       "      <td>1</td>\n",
       "      <td>8.717798</td>\n",
       "    </tr>\n",
       "    <tr>\n",
       "      <th>5</th>\n",
       "      <td>1</td>\n",
       "      <td>0</td>\n",
       "      <td>0</td>\n",
       "      <td>0</td>\n",
       "      <td>1</td>\n",
       "      <td>0</td>\n",
       "      <td>0</td>\n",
       "      <td>0</td>\n",
       "      <td>1</td>\n",
       "      <td>0</td>\n",
       "      <td>0</td>\n",
       "      <td>0</td>\n",
       "      <td>0</td>\n",
       "      <td>0</td>\n",
       "      <td>1</td>\n",
       "      <td>11.789826</td>\n",
       "    </tr>\n",
       "    <tr>\n",
       "      <th>6</th>\n",
       "      <td>1</td>\n",
       "      <td>1</td>\n",
       "      <td>0</td>\n",
       "      <td>0</td>\n",
       "      <td>1</td>\n",
       "      <td>0</td>\n",
       "      <td>0</td>\n",
       "      <td>0</td>\n",
       "      <td>1</td>\n",
       "      <td>0</td>\n",
       "      <td>0</td>\n",
       "      <td>0</td>\n",
       "      <td>0</td>\n",
       "      <td>0</td>\n",
       "      <td>0</td>\n",
       "      <td>14.730920</td>\n",
       "    </tr>\n",
       "  </tbody>\n",
       "</table>\n",
       "</div>"
      ],
      "text/plain": [
       "   housing  loan  Target  education_secondary  education_tertiary  \\\n",
       "0        1     0       0                    0                   1   \n",
       "1        1     0       0                    1                   0   \n",
       "2        1     1       0                    1                   0   \n",
       "5        1     0       0                    0                   1   \n",
       "6        1     1       0                    0                   1   \n",
       "\n",
       "   job_blue-collar  job_entrepreneur  job_housemaid  job_management  \\\n",
       "0                0                 0              0               1   \n",
       "1                0                 0              0               0   \n",
       "2                0                 1              0               0   \n",
       "5                0                 0              0               1   \n",
       "6                0                 0              0               1   \n",
       "\n",
       "   job_retired  job_services  job_student  job_technician  marital_divorced  \\\n",
       "0            0             0            0               0                 0   \n",
       "1            0             0            0               1                 0   \n",
       "2            0             0            0               0                 0   \n",
       "5            0             0            0               0                 0   \n",
       "6            0             0            0               0                 0   \n",
       "\n",
       "   marital_married  duration_sqrt  \n",
       "0                1      16.155494  \n",
       "1                0      12.288206  \n",
       "2                1       8.717798  \n",
       "5                1      11.789826  \n",
       "6                0      14.730920  "
      ]
     },
     "execution_count": 39,
     "metadata": {},
     "output_type": "execute_result"
    }
   ],
   "source": [
    "df2 = df1.drop(columns=['duration', 'duration_log', 'marital_single' ]) # need a default for marital so I dropped single.\n",
    "df2.head()"
   ]
  },
  {
   "cell_type": "code",
   "execution_count": 40,
   "metadata": {},
   "outputs": [
    {
     "name": "stdout",
     "output_type": "stream",
     "text": [
      "                                       Count Percent\n",
      "\n",
      "\n",
      "Original Personal_Loan True Values    : 4467    10.6\n",
      "Training Personal_Loan False Values   : 37806   89.4\n",
      "\n",
      "\n",
      "Training Personal_Loan True Values    : 3093    10.5\n",
      "Training Personal_Loan False Values   : 26498   89.5\n",
      "\n",
      "\n",
      "Test Personal_Loan True Values         : 1374    10.8\n",
      "Test Personal_Loan False Values        : 11308   89.2\n"
     ]
    }
   ],
   "source": [
    "#Split the data into training and test set in the ratio of 70:30 respectively. The target variable is Target.\n",
    "X = df2.drop('Target',axis=1)\n",
    "Y = df2['Target']\n",
    "\n",
    "x_train, x_test, y_train, y_test = train_test_split(X, Y, test_size=0.3, random_state=1729)\n",
    "\n",
    "############# Check to see if ratio of target is the same for orginal as in Training and test #############\n",
    "\n",
    "\n",
    "print(\"\".ljust(38, \" \"),\"Count\",\"Percent\")\n",
    "print(\"\\n\")\n",
    "print(\"Original Personal_Loan True Values    :\",len(df2.loc[df2['Target'] == 1]),\"  \",(round(len(df2.loc[df2['Target'] == 1])/len(df2)*100,1)))\n",
    "print(\"Training Personal_Loan False Values   :\",len(df2.loc[df2['Target'] == 0]),\" \",(round(len(df2.loc[df2['Target'] == 0])/len(df2)*100,1)))\n",
    "print(\"\\n\")\n",
    "print(\"Training Personal_Loan True Values    :\",len(y_train[y_train[:] == 1]),\"  \",(round(len(y_train[y_train[:] == 1])/len(y_train)*100,1)))\n",
    "print(\"Training Personal_Loan False Values   :\",len(y_train[y_train[:] == 0]),\" \",(round(len(y_train[y_train[:] ==0])/len(y_train)*100,1)))\n",
    "print(\"\\n\")\n",
    "print(\"Test Personal_Loan True Values         :\",len(y_test[y_test[:] == 1]),\"  \",(round(len(y_test[y_test[:] == 1])/len(y_test)*100,1)))\n",
    "print(\"Test Personal_Loan False Values        :\",len(y_test[y_test[:] == 0]),\" \",(round(len(y_test[y_test[:] ==0])/len(y_test)*100,1)))"
   ]
  },
  {
   "cell_type": "markdown",
   "metadata": {},
   "source": [
    "Deliverable – 3 (create the ensemble model) "
   ]
  },
  {
   "cell_type": "code",
   "execution_count": 41,
   "metadata": {},
   "outputs": [
    {
     "name": "stdout",
     "output_type": "stream",
     "text": [
      "Optimization terminated successfully.\n",
      "         Current function value: 0.254877\n",
      "         Iterations 8\n",
      "                           Logit Regression Results                           \n",
      "==============================================================================\n",
      "Dep. Variable:                 Target   No. Observations:                29591\n",
      "Model:                          Logit   Df Residuals:                    29575\n",
      "Method:                           MLE   Df Model:                           15\n",
      "Date:                Wed, 30 Sep 2020   Pseudo R-squ.:                  0.2390\n",
      "Time:                        09:51:05   Log-Likelihood:                -7542.1\n",
      "converged:                       True   LL-Null:                       -9910.4\n",
      "Covariance Type:            nonrobust   LLR p-value:                     0.000\n",
      "=======================================================================================\n",
      "                          coef    std err          z      P>|z|      [0.025      0.975]\n",
      "---------------------------------------------------------------------------------------\n",
      "const                  -4.8793      0.148    -33.052      0.000      -5.169      -4.590\n",
      "housing                -1.0060      0.046    -21.826      0.000      -1.096      -0.916\n",
      "loan                   -0.8512      0.074    -11.438      0.000      -0.997      -0.705\n",
      "education_secondary     0.2594      0.075      3.471      0.001       0.113       0.406\n",
      "education_tertiary      0.5794      0.084      6.901      0.000       0.415       0.744\n",
      "job_blue-collar        -0.4351      0.125     -3.469      0.001      -0.681      -0.189\n",
      "job_entrepreneur       -0.5834      0.145     -4.030      0.000      -0.867      -0.300\n",
      "job_housemaid          -0.3073      0.179     -1.712      0.087      -0.659       0.044\n",
      "job_management         -0.0584      0.117     -0.498      0.618      -0.288       0.171\n",
      "job_retired             0.6311      0.133      4.753      0.000       0.371       0.891\n",
      "job_services           -0.2888      0.136     -2.118      0.034      -0.556      -0.022\n",
      "job_student             0.8102      0.159      5.106      0.000       0.499       1.121\n",
      "job_technician         -0.1471      0.122     -1.210      0.226      -0.386       0.091\n",
      "marital_divorced       -0.2260      0.074     -3.060      0.002      -0.371      -0.081\n",
      "marital_married        -0.3675      0.049     -7.460      0.000      -0.464      -0.271\n",
      "duration_sqrt           0.1998      0.004     54.044      0.000       0.193       0.207\n",
      "=======================================================================================\n"
     ]
    }
   ],
   "source": [
    "################## Build log model #############\n",
    "logit = sm.Logit( y_train, sm.add_constant( x_train ) )\n",
    "\n",
    "lg = logit.fit()\n",
    "\n",
    "print(lg.summary())"
   ]
  },
  {
   "cell_type": "code",
   "execution_count": 42,
   "metadata": {},
   "outputs": [
    {
     "name": "stdout",
     "output_type": "stream",
     "text": [
      "Optimization terminated successfully.\n",
      "         Current function value: 0.254881\n",
      "         Iterations 8\n",
      "                           Logit Regression Results                           \n",
      "==============================================================================\n",
      "Dep. Variable:                 Target   No. Observations:                29591\n",
      "Model:                          Logit   Df Residuals:                    29576\n",
      "Method:                           MLE   Df Model:                           14\n",
      "Date:                Wed, 30 Sep 2020   Pseudo R-squ.:                  0.2390\n",
      "Time:                        09:51:05   Log-Likelihood:                -7542.2\n",
      "converged:                       True   LL-Null:                       -9910.4\n",
      "Covariance Type:            nonrobust   LLR p-value:                     0.000\n",
      "=======================================================================================\n",
      "                          coef    std err          z      P>|z|      [0.025      0.975]\n",
      "---------------------------------------------------------------------------------------\n",
      "const                  -4.9276      0.112    -44.181      0.000      -5.146      -4.709\n",
      "housing                -1.0077      0.046    -21.927      0.000      -1.098      -0.918\n",
      "loan                   -0.8525      0.074    -11.463      0.000      -0.998      -0.707\n",
      "education_secondary     0.2570      0.075      3.445      0.001       0.111       0.403\n",
      "education_tertiary      0.5730      0.083      6.905      0.000       0.410       0.736\n",
      "job_blue-collar        -0.3850      0.075     -5.128      0.000      -0.532      -0.238\n",
      "job_entrepreneur       -0.5306      0.099     -5.371      0.000      -0.724      -0.337\n",
      "job_housemaid          -0.2573      0.149     -1.728      0.084      -0.549       0.035\n",
      "job_retired             0.6813      0.087      7.846      0.000       0.511       0.851\n",
      "job_services           -0.2378      0.090     -2.633      0.008      -0.415      -0.061\n",
      "job_student             0.8614      0.121      7.115      0.000       0.624       1.099\n",
      "job_technician         -0.0953      0.063     -1.508      0.132      -0.219       0.029\n",
      "marital_divorced       -0.2260      0.074     -3.060      0.002      -0.371      -0.081\n",
      "marital_married        -0.3679      0.049     -7.469      0.000      -0.464      -0.271\n",
      "duration_sqrt           0.1998      0.004     54.091      0.000       0.193       0.207\n",
      "=======================================================================================\n"
     ]
    }
   ],
   "source": [
    "x_train = x_train.drop(columns=['job_management'],axis=1)\n",
    "logit = sm.Logit( y_train, sm.add_constant( x_train ) )\n",
    "\n",
    "lg = logit.fit()\n",
    "\n",
    "print(lg.summary())"
   ]
  },
  {
   "cell_type": "code",
   "execution_count": 43,
   "metadata": {},
   "outputs": [
    {
     "name": "stdout",
     "output_type": "stream",
     "text": [
      "Optimization terminated successfully.\n",
      "         Current function value: 0.254920\n",
      "         Iterations 8\n",
      "                           Logit Regression Results                           \n",
      "==============================================================================\n",
      "Dep. Variable:                 Target   No. Observations:                29591\n",
      "Model:                          Logit   Df Residuals:                    29577\n",
      "Method:                           MLE   Df Model:                           13\n",
      "Date:                Wed, 30 Sep 2020   Pseudo R-squ.:                  0.2388\n",
      "Time:                        09:51:06   Log-Likelihood:                -7543.3\n",
      "converged:                       True   LL-Null:                       -9910.4\n",
      "Covariance Type:            nonrobust   LLR p-value:                     0.000\n",
      "=======================================================================================\n",
      "                          coef    std err          z      P>|z|      [0.025      0.975]\n",
      "---------------------------------------------------------------------------------------\n",
      "const                  -4.9610      0.109    -45.313      0.000      -5.176      -4.746\n",
      "housing                -1.0073      0.046    -21.921      0.000      -1.097      -0.917\n",
      "loan                   -0.8536      0.074    -11.476      0.000      -0.999      -0.708\n",
      "education_secondary     0.2499      0.074      3.354      0.001       0.104       0.396\n",
      "education_tertiary      0.5850      0.083      7.078      0.000       0.423       0.747\n",
      "job_blue-collar        -0.3486      0.071     -4.894      0.000      -0.488      -0.209\n",
      "job_entrepreneur       -0.5032      0.097     -5.179      0.000      -0.694      -0.313\n",
      "job_housemaid          -0.2249      0.147     -1.526      0.127      -0.514       0.064\n",
      "job_retired             0.7139      0.084      8.481      0.000       0.549       0.879\n",
      "job_services           -0.2000      0.087     -2.302      0.021      -0.370      -0.030\n",
      "job_student             0.8966      0.119      7.543      0.000       0.664       1.130\n",
      "marital_divorced       -0.2222      0.074     -3.011      0.003      -0.367      -0.078\n",
      "marital_married        -0.3652      0.049     -7.420      0.000      -0.462      -0.269\n",
      "duration_sqrt           0.1998      0.004     54.089      0.000       0.193       0.207\n",
      "=======================================================================================\n"
     ]
    }
   ],
   "source": [
    "x_train = x_train.drop(columns=['job_technician'],axis=1)\n",
    "logit = sm.Logit( y_train, sm.add_constant( x_train ) )\n",
    "\n",
    "lg = logit.fit()\n",
    "\n",
    "print(lg.summary())"
   ]
  },
  {
   "cell_type": "code",
   "execution_count": 44,
   "metadata": {},
   "outputs": [
    {
     "name": "stdout",
     "output_type": "stream",
     "text": [
      "Optimization terminated successfully.\n",
      "         Current function value: 0.254961\n",
      "         Iterations 8\n",
      "                           Logit Regression Results                           \n",
      "==============================================================================\n",
      "Dep. Variable:                 Target   No. Observations:                29591\n",
      "Model:                          Logit   Df Residuals:                    29578\n",
      "Method:                           MLE   Df Model:                           12\n",
      "Date:                Wed, 30 Sep 2020   Pseudo R-squ.:                  0.2387\n",
      "Time:                        09:51:06   Log-Likelihood:                -7544.5\n",
      "converged:                       True   LL-Null:                       -9910.4\n",
      "Covariance Type:            nonrobust   LLR p-value:                     0.000\n",
      "=======================================================================================\n",
      "                          coef    std err          z      P>|z|      [0.025      0.975]\n",
      "---------------------------------------------------------------------------------------\n",
      "const                  -4.9938      0.107    -46.481      0.000      -5.204      -4.783\n",
      "housing                -1.0038      0.046    -21.868      0.000      -1.094      -0.914\n",
      "loan                   -0.8531      0.074    -11.470      0.000      -0.999      -0.707\n",
      "education_secondary     0.2714      0.073      3.712      0.000       0.128       0.415\n",
      "education_tertiary      0.6132      0.081      7.611      0.000       0.455       0.771\n",
      "job_blue-collar        -0.3300      0.070     -4.703      0.000      -0.467      -0.192\n",
      "job_entrepreneur       -0.4937      0.097     -5.090      0.000      -0.684      -0.304\n",
      "job_retired             0.7340      0.083      8.827      0.000       0.571       0.897\n",
      "job_services           -0.1879      0.087     -2.171      0.030      -0.358      -0.018\n",
      "job_student             0.9060      0.119      7.631      0.000       0.673       1.139\n",
      "marital_divorced       -0.2267      0.074     -3.073      0.002      -0.371      -0.082\n",
      "marital_married        -0.3687      0.049     -7.496      0.000      -0.465      -0.272\n",
      "duration_sqrt           0.1998      0.004     54.102      0.000       0.193       0.207\n",
      "=======================================================================================\n"
     ]
    }
   ],
   "source": [
    "x_train = x_train.drop(columns=['job_housemaid'],axis=1)\n",
    "logit = sm.Logit( y_train, sm.add_constant( x_train ) )\n",
    "\n",
    "lg = logit.fit()\n",
    "\n",
    "print(lg.summary())"
   ]
  },
  {
   "cell_type": "code",
   "execution_count": 45,
   "metadata": {},
   "outputs": [],
   "source": [
    "x_test = x_test.drop(columns=['job_housemaid', 'job_technician', 'job_management'],axis=1)\n",
    "logreg = LogisticRegression(random_state= seed)\n",
    "logreg.fit(x_train, y_train)\n",
    "y_predict = logreg.predict(x_test)"
   ]
  },
  {
   "cell_type": "code",
   "execution_count": 46,
   "metadata": {},
   "outputs": [
    {
     "name": "stdout",
     "output_type": "stream",
     "text": [
      "Training accuracy:      89.8\n",
      "\n",
      "\n",
      "Testing accuracy:      89.3\n",
      "\n",
      "\n",
      "Recall:                16.4\n",
      "\n",
      "\n",
      "Precision:             51.7\n",
      "\n",
      "\n",
      "F1 Score:              25.0\n",
      "\n",
      "\n",
      "Roc Auc Score:         57.3\n",
      "\n",
      "Confusion Matrix for Logistic model\n",
      "\n"
     ]
    },
    {
     "data": {
      "image/png": "[encoded data removed]",
      "text/plain": [
       "<Figure size 432x288 with 2 Axes>"
      ]
     },
     "metadata": {
      "needs_background": "light"
     },
     "output_type": "display_data"
    },
    {
     "name": "stdout",
     "output_type": "stream",
     "text": [
      "None\n"
     ]
    }
   ],
   "source": [
    "########################## Model Performance ########################\n",
    "\n",
    "################### Make performance function ################\n",
    "def perform_p(a,b,c,d,e,f):\n",
    "    print(\"Training accuracy:     \",round(f.score(a,b)*100,1))  \n",
    "    print(\"\\n\")\n",
    "    print(\"Testing accuracy:     \", round(f.score(c, d)*100,1))\n",
    "    print(\"\\n\")\n",
    "    print(\"Recall:               \", round(recall_score(d,e)*100,1))\n",
    "    print(\"\\n\")\n",
    "    print(\"Precision:            \",round(precision_score(d,e)*100,1))\n",
    "    print(\"\\n\")\n",
    "    print(\"F1 Score:             \",round(f1_score(d,e)*100,1))\n",
    "    print(\"\\n\")\n",
    "    print(\"Roc Auc Score:        \",round(roc_auc_score(d,e)*100,1))\n",
    "    return\n",
    "\n",
    "######## function that makes metric data set ##########\n",
    "def perform(a,b,c,d,e,f,g):\n",
    "    dat = {\"Method\": f,\n",
    "           \"Training accuracy\" : [round(g.score(a,b)*100,1)],\n",
    "              \"Testing accuracy\": [round(g.score(c, d)*100,1)],\n",
    "              \"Recall\": [round(recall_score(d,e)*100,1)],\n",
    "              \"Precision\": [round(precision_score(d,e)*100,1)],\n",
    "              \"F1 Score\": [round(f1_score(d,e)*100,1)],\n",
    "              \"Roc Auc Score\": [round(roc_auc_score(d,e)*100,1)]}\n",
    "    metric = pd.DataFrame(data=dat)\n",
    "    return metric\n",
    "\n",
    "perform_p(x_train,y_train,x_test,y_test,y_predict,logreg)\n",
    "model1 = perform(x_train,y_train,x_test,y_test,y_predict,\"Logistic\",logreg) #save metrics as a data frame\n",
    "print()\n",
    "\n",
    "################ Make Confusion Matrix ##################\n",
    "def confusion( actual, predicted ):\n",
    "    cm = confusion_matrix( actual, predicted)\n",
    "    sns.heatmap(cm, annot=True,  fmt='.0f', xticklabels = [0,1] , yticklabels = [0,1] , cmap=\"YlGnBu\")\n",
    "    plt.ylabel('Observed')\n",
    "    plt.xlabel('Predicted')\n",
    "    plt.show()\n",
    "\n",
    "print('Confusion Matrix for Logistic model')\n",
    "print()\n",
    "print(confusion(y_test,y_predict))"
   ]
  },
  {
   "cell_type": "code",
   "execution_count": 47,
   "metadata": {},
   "outputs": [
    {
     "data": {
      "text/plain": [
       "DecisionTreeClassifier(ccp_alpha=0.0, class_weight=None, criterion='entropy',\n",
       "                       max_depth=None, max_features=None, max_leaf_nodes=None,\n",
       "                       min_impurity_decrease=0.0, min_impurity_split=None,\n",
       "                       min_samples_leaf=1, min_samples_split=2,\n",
       "                       min_weight_fraction_leaf=0.0, presort='deprecated',\n",
       "                       random_state=None, splitter='best')"
      ]
     },
     "execution_count": 47,
     "metadata": {},
     "output_type": "execute_result"
    }
   ],
   "source": [
    "############### Build Descison Tree #########################\n",
    "model_tree=DecisionTreeClassifier(criterion='entropy')\n",
    "model_tree.fit(x_train, y_train)"
   ]
  },
  {
   "cell_type": "code",
   "execution_count": 48,
   "metadata": {},
   "outputs": [
    {
     "name": "stdout",
     "output_type": "stream",
     "text": [
      "Training Accuracy:    0.9616099489709709\n",
      "Test Accuracy:    0.863586185144299\n"
     ]
    }
   ],
   "source": [
    "print('Training Accuracy:   ', model_tree.score(x_train, y_train))\n",
    "print('Test Accuracy:   ', model_tree.score(x_test, y_test))\n"
   ]
  },
  {
   "cell_type": "markdown",
   "metadata": {},
   "source": [
    "There is possible overfitting here. I will reduce max_depth and set min leaf size."
   ]
  },
  {
   "cell_type": "code",
   "execution_count": 49,
   "metadata": {},
   "outputs": [
    {
     "data": {
      "text/plain": [
       "DecisionTreeClassifier(ccp_alpha=0.0, class_weight=None, criterion='entropy',\n",
       "                       max_depth=3, max_features=None, max_leaf_nodes=None,\n",
       "                       min_impurity_decrease=0.0, min_impurity_split=None,\n",
       "                       min_samples_leaf=5, min_samples_split=2,\n",
       "                       min_weight_fraction_leaf=0.0, presort='deprecated',\n",
       "                       random_state=1729, splitter='best')"
      ]
     },
     "execution_count": 49,
     "metadata": {},
     "output_type": "execute_result"
    }
   ],
   "source": [
    "model_t_p = DecisionTreeClassifier(criterion = \"entropy\", random_state = seed,\n",
    "                               max_depth=3, min_samples_leaf=5)\n",
    "model_t_p.fit(x_train, y_train)"
   ]
  },
  {
   "cell_type": "code",
   "execution_count": 50,
   "metadata": {},
   "outputs": [
    {
     "name": "stdout",
     "output_type": "stream",
     "text": [
      "Training Accuracy:    0.8983812645736879\n",
      "Test Accuracy:    0.8927613941018767\n"
     ]
    }
   ],
   "source": [
    "print('Training Accuracy:   ', model_t_p.score(x_train, y_train))\n",
    "print('Test Accuracy:   ', model_t_p.score(x_test, y_test))"
   ]
  },
  {
   "cell_type": "markdown",
   "metadata": {},
   "source": [
    "Training and Test accuracy are much closer now."
   ]
  },
  {
   "cell_type": "code",
   "execution_count": 51,
   "metadata": {},
   "outputs": [
    {
     "name": "stdout",
     "output_type": "stream",
     "text": [
      "Training accuracy:      89.8\n",
      "\n",
      "\n",
      "Testing accuracy:      89.3\n",
      "\n",
      "\n",
      "Recall:                6.9\n",
      "\n",
      "\n",
      "Precision:             54.0\n",
      "\n",
      "\n",
      "F1 Score:              12.3\n",
      "\n",
      "\n",
      "Roc Auc Score:         53.1\n",
      "\n",
      "Confusion Matrix for Descition tree  Method\n",
      "\n"
     ]
    },
    {
     "data": {
      "image/png": "[encoded data removed]",
      "text/plain": [
       "<Figure size 432x288 with 2 Axes>"
      ]
     },
     "metadata": {
      "needs_background": "light"
     },
     "output_type": "display_data"
    },
    {
     "name": "stdout",
     "output_type": "stream",
     "text": [
      "None\n"
     ]
    }
   ],
   "source": [
    "y_tree_predict = model_t_p.predict(x_test)\n",
    "perform_p(x_train,y_train,x_test,y_test,y_tree_predict,model_t_p)\n",
    "model2 = perform(x_train,y_train,x_test,y_test,y_tree_predict,\"Decision Tree\",model_t_p)\n",
    "print()\n",
    "print('Confusion Matrix for Descition tree  Method')\n",
    "print()\n",
    "print(confusion(y_test,y_tree_predict))"
   ]
  },
  {
   "cell_type": "code",
   "execution_count": 52,
   "metadata": {},
   "outputs": [
    {
     "name": "stdout",
     "output_type": "stream",
     "text": [
      "0.9609002737318779\n",
      "0.8626399621510803\n"
     ]
    }
   ],
   "source": [
    "############### Random Forest #########################\n",
    "Forest = RandomForestClassifier(random_state= seed, n_estimators=50)\n",
    "Forest = Forest.fit(x_train, y_train)\n",
    "\n",
    "pred_Forest = Forest.predict(x_test)\n",
    "print(Forest.score(x_train,y_train))\n",
    "print(Forest.score(x_test,y_test))"
   ]
  },
  {
   "cell_type": "code",
   "execution_count": 53,
   "metadata": {},
   "outputs": [
    {
     "name": "stdout",
     "output_type": "stream",
     "text": [
      "Training accuracy:      96.1\n",
      "\n",
      "\n",
      "Testing accuracy:      86.3\n",
      "\n",
      "\n",
      "Recall:                23.9\n",
      "\n",
      "\n",
      "Precision:             32.1\n",
      "\n",
      "\n",
      "F1 Score:              27.4\n",
      "\n",
      "\n",
      "Roc Auc Score:         58.9\n",
      "\n",
      "Confusion Matrix for Random Forest  Method\n",
      "\n"
     ]
    },
    {
     "data": {
      "image/png": "[encoded data removed]",
      "text/plain": [
       "<Figure size 432x288 with 2 Axes>"
      ]
     },
     "metadata": {
      "needs_background": "light"
     },
     "output_type": "display_data"
    },
    {
     "name": "stdout",
     "output_type": "stream",
     "text": [
      "None\n"
     ]
    }
   ],
   "source": [
    "perform_p(x_train,y_train,x_test,y_test,pred_Forest,Forest)\n",
    "model3 = perform(x_train,y_train,x_test,y_test,pred_Forest,\"Random Forest\",Forest)\n",
    "print()\n",
    "print('Confusion Matrix for Random Forest  Method')\n",
    "print()\n",
    "print(confusion(y_test,pred_Forest))"
   ]
  },
  {
   "cell_type": "code",
   "execution_count": 54,
   "metadata": {},
   "outputs": [
    {
     "name": "stdout",
     "output_type": "stream",
     "text": [
      "0.9547159609340677\n",
      "0.8750985648951269\n"
     ]
    }
   ],
   "source": [
    "############### Bagging #########################\n",
    "bag = BaggingClassifier(n_estimators=50, max_samples= .7, bootstrap=True, oob_score=True, random_state= seed)\n",
    "bag = bag.fit(x_train, y_train)\n",
    "pred_BG = bag.predict(x_test)\n",
    "print(bag.score(x_train,y_train))\n",
    "print(bag.score(x_test,y_test))\n"
   ]
  },
  {
   "cell_type": "code",
   "execution_count": 55,
   "metadata": {},
   "outputs": [
    {
     "name": "stdout",
     "output_type": "stream",
     "text": [
      "0.9092967456321178\n",
      "0.8902381327866267\n"
     ]
    }
   ],
   "source": [
    "bag = BaggingClassifier(n_estimators=100, max_samples= .1, bootstrap=True, oob_score=True, random_state= seed)\n",
    "bag = bag.fit(x_train, y_train)\n",
    "pred_BG = bag.predict(x_test)\n",
    "print(bag.score(x_train,y_train))\n",
    "print(bag.score(x_test,y_test))"
   ]
  },
  {
   "cell_type": "code",
   "execution_count": 56,
   "metadata": {},
   "outputs": [
    {
     "name": "stdout",
     "output_type": "stream",
     "text": [
      "0.910885066405326\n",
      "0.891263207695947\n"
     ]
    }
   ],
   "source": [
    "bag = BaggingClassifier(n_estimators=1000, max_samples= .1, bootstrap=True, oob_score=True, random_state= seed)\n",
    "bag = bag.fit(x_train, y_train)\n",
    "pred_BG = bag.predict(x_test)\n",
    "print(bag.score(x_train,y_train))\n",
    "print(bag.score(x_test,y_test))"
   ]
  },
  {
   "cell_type": "code",
   "execution_count": 57,
   "metadata": {},
   "outputs": [
    {
     "name": "stdout",
     "output_type": "stream",
     "text": [
      "Training accuracy:      91.1\n",
      "\n",
      "\n",
      "Testing accuracy:      89.1\n",
      "\n",
      "\n",
      "Recall:                14.7\n",
      "\n",
      "\n",
      "Precision:             49.4\n",
      "\n",
      "\n",
      "F1 Score:              22.7\n",
      "\n",
      "\n",
      "Roc Auc Score:         56.4\n",
      "\n",
      "Confusion Matrix for Bagging  Method\n",
      "\n"
     ]
    },
    {
     "data": {
      "image/png": "[encoded data removed]",
      "text/plain": [
       "<Figure size 432x288 with 2 Axes>"
      ]
     },
     "metadata": {
      "needs_background": "light"
     },
     "output_type": "display_data"
    },
    {
     "name": "stdout",
     "output_type": "stream",
     "text": [
      "None\n"
     ]
    }
   ],
   "source": [
    "perform_p(x_train,y_train,x_test,y_test,pred_BG,bag)\n",
    "model4 = perform(x_train,y_train,x_test,y_test,pred_BG,\"Bagging\",bag)\n",
    "print()\n",
    "print('Confusion Matrix for Bagging  Method')\n",
    "print()\n",
    "print(confusion(y_test,pred_BG))\n"
   ]
  },
  {
   "cell_type": "code",
   "execution_count": 58,
   "metadata": {},
   "outputs": [
    {
     "name": "stdout",
     "output_type": "stream",
     "text": [
      "0.897671589334595\n",
      "0.8936287651789938\n"
     ]
    }
   ],
   "source": [
    "############### Boosting #########################\n",
    "boost = AdaBoostClassifier(n_estimators = 100, learning_rate=0.1, random_state= seed)\n",
    "boost = boost.fit(x_train, y_train)\n",
    "print(boost.score(x_train,y_train))\n",
    "print(boost.score(x_test,y_test))"
   ]
  },
  {
   "cell_type": "code",
   "execution_count": 59,
   "metadata": {},
   "outputs": [
    {
     "name": "stdout",
     "output_type": "stream",
     "text": [
      "0.8981785002196614\n",
      "0.8920517268569627\n"
     ]
    }
   ],
   "source": [
    "boost = AdaBoostClassifier(n_estimators = 1000, learning_rate=0.1, random_state= seed)\n",
    "boost = boost.fit(x_train, y_train)\n",
    "print(boost.score(x_train,y_train))\n",
    "print(boost.score(x_test,y_test))\n",
    "pred_AB =boost.predict(x_test)"
   ]
  },
  {
   "cell_type": "code",
   "execution_count": 60,
   "metadata": {},
   "outputs": [
    {
     "name": "stdout",
     "output_type": "stream",
     "text": [
      "Training accuracy:      89.8\n",
      "\n",
      "\n",
      "Testing accuracy:      89.2\n",
      "\n",
      "\n",
      "Recall:                14.8\n",
      "\n",
      "\n",
      "Precision:             50.6\n",
      "\n",
      "\n",
      "F1 Score:              22.9\n",
      "\n",
      "\n",
      "Roc Auc Score:         56.5\n",
      "\n",
      "Confusion Matrix for Boosting  Method\n",
      "\n"
     ]
    },
    {
     "data": {
      "image/png": "[encoded data removed]",
      "text/plain": [
       "<Figure size 432x288 with 2 Axes>"
      ]
     },
     "metadata": {
      "needs_background": "light"
     },
     "output_type": "display_data"
    },
    {
     "name": "stdout",
     "output_type": "stream",
     "text": [
      "None\n"
     ]
    }
   ],
   "source": [
    "perform_p(x_train,y_train,x_test,y_test,pred_AB,boost)\n",
    "model5 = perform(x_train,y_train,x_test,y_test,pred_AB,\"Boosting\",boost)\n",
    "print()\n",
    "print('Confusion Matrix for Boosting  Method')\n",
    "print()\n",
    "print(confusion(y_test,pred_AB))"
   ]
  },
  {
   "cell_type": "code",
   "execution_count": 61,
   "metadata": {},
   "outputs": [
    {
     "name": "stdout",
     "output_type": "stream",
     "text": [
      "0.9049711060795512\n",
      "0.8911055038637439\n"
     ]
    }
   ],
   "source": [
    "############### Gradient Boosting #########################\n",
    "Gradient = GradientBoostingClassifier(random_state= seed, n_estimators=200,)\n",
    "Gradient = Gradient.fit(x_train, y_train)\n",
    "\n",
    "pred_Gradient = Gradient.predict(x_test)\n",
    "print(Gradient.score(x_train,y_train))\n",
    "print(Gradient.score(x_test,y_test))"
   ]
  },
  {
   "cell_type": "code",
   "execution_count": 62,
   "metadata": {},
   "outputs": [
    {
     "name": "stdout",
     "output_type": "stream",
     "text": [
      "Training accuracy:      90.5\n",
      "\n",
      "\n",
      "Testing accuracy:      89.1\n",
      "\n",
      "\n",
      "Recall:                13.9\n",
      "\n",
      "\n",
      "Precision:             49.1\n",
      "\n",
      "\n",
      "F1 Score:              21.7\n",
      "\n",
      "\n",
      "Roc Auc Score:         56.1\n",
      "\n",
      "Confusion Matrix for Gradient Boosting  Method\n",
      "\n"
     ]
    },
    {
     "data": {
      "image/png": "[encoded data removed]",
      "text/plain": [
       "<Figure size 432x288 with 2 Axes>"
      ]
     },
     "metadata": {
      "needs_background": "light"
     },
     "output_type": "display_data"
    },
    {
     "name": "stdout",
     "output_type": "stream",
     "text": [
      "None\n"
     ]
    }
   ],
   "source": [
    "perform_p(x_train,y_train,x_test,y_test,pred_Gradient,Gradient)\n",
    "model6 = perform(x_train,y_train,x_test,y_test,pred_Gradient,\"Gradient Boosting\",Gradient)\n",
    "print()\n",
    "print('Confusion Matrix for Gradient Boosting  Method')\n",
    "print()\n",
    "print(confusion(y_test,pred_Gradient))"
   ]
  },
  {
   "cell_type": "code",
   "execution_count": 63,
   "metadata": {},
   "outputs": [
    {
     "data": {
      "text/html": [
       "<div>\n",
       "<style scoped>\n",
       "    .dataframe tbody tr th:only-of-type {\n",
       "        vertical-align: middle;\n",
       "    }\n",
       "\n",
       "    .dataframe tbody tr th {\n",
       "        vertical-align: top;\n",
       "    }\n",
       "\n",
       "    .dataframe thead th {\n",
       "        text-align: right;\n",
       "    }\n",
       "</style>\n",
       "<table border=\"1\" class=\"dataframe\">\n",
       "  <thead>\n",
       "    <tr style=\"text-align: right;\">\n",
       "      <th></th>\n",
       "      <th>Method</th>\n",
       "      <th>Training accuracy</th>\n",
       "      <th>Testing accuracy</th>\n",
       "      <th>Recall</th>\n",
       "      <th>Precision</th>\n",
       "      <th>F1 Score</th>\n",
       "      <th>Roc Auc Score</th>\n",
       "    </tr>\n",
       "  </thead>\n",
       "  <tbody>\n",
       "    <tr>\n",
       "      <th>0</th>\n",
       "      <td>Logistic</td>\n",
       "      <td>89.8</td>\n",
       "      <td>89.3</td>\n",
       "      <td>16.4</td>\n",
       "      <td>51.7</td>\n",
       "      <td>25.0</td>\n",
       "      <td>57.3</td>\n",
       "    </tr>\n",
       "    <tr>\n",
       "      <th>0</th>\n",
       "      <td>Decision Tree</td>\n",
       "      <td>89.8</td>\n",
       "      <td>89.3</td>\n",
       "      <td>6.9</td>\n",
       "      <td>54.0</td>\n",
       "      <td>12.3</td>\n",
       "      <td>53.1</td>\n",
       "    </tr>\n",
       "    <tr>\n",
       "      <th>0</th>\n",
       "      <td>Random Forest</td>\n",
       "      <td>96.1</td>\n",
       "      <td>86.3</td>\n",
       "      <td>23.9</td>\n",
       "      <td>32.1</td>\n",
       "      <td>27.4</td>\n",
       "      <td>58.9</td>\n",
       "    </tr>\n",
       "    <tr>\n",
       "      <th>0</th>\n",
       "      <td>Bagging</td>\n",
       "      <td>91.1</td>\n",
       "      <td>89.1</td>\n",
       "      <td>14.7</td>\n",
       "      <td>49.4</td>\n",
       "      <td>22.7</td>\n",
       "      <td>56.4</td>\n",
       "    </tr>\n",
       "    <tr>\n",
       "      <th>0</th>\n",
       "      <td>Boosting</td>\n",
       "      <td>89.8</td>\n",
       "      <td>89.2</td>\n",
       "      <td>14.8</td>\n",
       "      <td>50.6</td>\n",
       "      <td>22.9</td>\n",
       "      <td>56.5</td>\n",
       "    </tr>\n",
       "    <tr>\n",
       "      <th>0</th>\n",
       "      <td>Gradient Boosting</td>\n",
       "      <td>90.5</td>\n",
       "      <td>89.1</td>\n",
       "      <td>13.9</td>\n",
       "      <td>49.1</td>\n",
       "      <td>21.7</td>\n",
       "      <td>56.1</td>\n",
       "    </tr>\n",
       "  </tbody>\n",
       "</table>\n",
       "</div>"
      ],
      "text/plain": [
       "              Method  Training accuracy  Testing accuracy  Recall  Precision  \\\n",
       "0           Logistic               89.8              89.3    16.4       51.7   \n",
       "0      Decision Tree               89.8              89.3     6.9       54.0   \n",
       "0      Random Forest               96.1              86.3    23.9       32.1   \n",
       "0            Bagging               91.1              89.1    14.7       49.4   \n",
       "0           Boosting               89.8              89.2    14.8       50.6   \n",
       "0  Gradient Boosting               90.5              89.1    13.9       49.1   \n",
       "\n",
       "   F1 Score  Roc Auc Score  \n",
       "0      25.0           57.3  \n",
       "0      12.3           53.1  \n",
       "0      27.4           58.9  \n",
       "0      22.7           56.4  \n",
       "0      22.9           56.5  \n",
       "0      21.7           56.1  "
      ]
     },
     "execution_count": 63,
     "metadata": {},
     "output_type": "execute_result"
    }
   ],
   "source": [
    "##############################################################\n",
    "###  Make a DataFrame to compare models and their metrics  ###\n",
    "##############################################################\n",
    "\n",
    "fram = [model1, model2, model3, model4, model5, model6]\n",
    "\n",
    "frams = pd.concat(fram)\n",
    "\n",
    "frams\n"
   ]
  },
  {
   "cell_type": "markdown",
   "metadata": {},
   "source": [
    "Conclustion\n",
    "\n"
   ]
  },
  {
   "cell_type": "markdown",
   "metadata": {},
   "source": [
    "In the bank's case, finding a model that is best at predicting true positives, clients predicted to have subscribed for a term deposit and the client actually did subscribe, should be the best model because it could be the most lucrative for the bank. Since Random Forest did the best at recall and decision tree did the best at precision, I want to look at F1 score. The F1 score is like the average of the two scores. Decision Tree method did the worst at the recall, F1 Score and Roc Auc Score. The Rand Forest method resulted in the highest Roc Auc Score, F1 score, and Recall. Looking across the different metrics I find Random Forest method to be the best."
   ]
  }
 ],
 "metadata": {
  "kernelspec": {
   "display_name": "Python 3",
   "language": "python",
   "name": "python3"
  },
  "language_info": {
   "codemirror_mode": {
    "name": "ipython",
    "version": 3
   },
   "file_extension": ".py",
   "mimetype": "text/x-python",
   "name": "python",
   "nbconvert_exporter": "python",
   "pygments_lexer": "ipython3",
   "version": "3.7.6"
  }
 },
 "nbformat": 4,
 "nbformat_minor": 4
}
